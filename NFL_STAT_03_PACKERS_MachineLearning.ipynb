{
 "cells": [
  {
   "cell_type": "markdown",
   "id": "2a35246a-b0b0-41bb-8d59-bc16f4c07b9c",
   "metadata": {},
   "source": [
    "### MODEL DEFINITION AND MODEL TRAINING"
   ]
  },
  {
   "cell_type": "markdown",
   "id": "b9f21c9e-c429-4f8c-af92-e1a83890c614",
   "metadata": {},
   "source": [
    "#### RESULTS"
   ]
  },
  {
   "cell_type": "markdown",
   "id": "29fc1b19-c7a3-4400-ae2d-c16ab7fac08e",
   "metadata": {},
   "source": [
    "| Algorithm      | MSE | RMSE | R2 |\n",
    "|----------------|-----|------|----|\n",
    "|Linear Regression | 2.716  | 1.648 | 0.982 |\n",
    "|Extra Trees Regressor | 0.611 | 0.782 | 0.996 |\n",
    "|XGBoost Regressor |2.128 | 1.489 | 0.985  |"
   ]
  },
  {
   "cell_type": "markdown",
   "id": "b42341db-ef28-4665-b578-57b94c4cfad7",
   "metadata": {},
   "source": [
    "#### Import Libraries"
   ]
  },
  {
   "cell_type": "code",
   "execution_count": 2,
   "id": "e6484fa0-036e-40ab-9ada-25546c6df300",
   "metadata": {},
   "outputs": [],
   "source": [
    "import numpy as np\n",
    "import pandas as pd\n",
    "import matplotlib.pyplot as plt\n",
    "import seaborn as sns\n",
    "import sklearn\n",
    "import shap\n",
    "\n",
    "import xgboost as xgb\n",
    "from xgboost import XGBRegressor\n",
    "from xgboost import plot_importance\n",
    "\n",
    "%matplotlib inline\n",
    "sns.set_style('dark')\n",
    "sns.set(font_scale=1.2)\n",
    "\n",
    "from sklearn.linear_model import LinearRegression\n",
    "from sklearn.ensemble import ExtraTreesRegressor\n",
    "\n",
    "from sklearn.pipeline import Pipeline\n",
    "from sklearn.model_selection import RepeatedStratifiedKFold\n",
    "from sklearn.feature_selection import RFE, RFECV, SelectKBest, f_classif, f_regression, chi2\n",
    "\n",
    "from sklearn.inspection import permutation_importance\n",
    "from sklearn.model_selection import cross_val_score, train_test_split, GridSearchCV, RandomizedSearchCV\n",
    "from sklearn.preprocessing import LabelEncoder, StandardScaler, MinMaxScaler, OneHotEncoder\n",
    "from sklearn.pipeline import Pipeline\n",
    "from sklearn.metrics import confusion_matrix, classification_report, mean_absolute_error, mean_squared_error,r2_score\n",
    "from sklearn.metrics import plot_confusion_matrix, plot_precision_recall_curve, plot_roc_curve, accuracy_score\n",
    "from sklearn.metrics import auc, f1_score, precision_score, recall_score, roc_auc_score\n",
    "\n",
    "import warnings\n",
    "warnings.filterwarnings('ignore')\n",
    "\n",
    "#import pickle\n",
    "#from pickle import dump, load\n",
    "\n",
    "np.random.seed(0)\n",
    "\n",
    "#from pycaret.regression import *\n",
    "\n",
    "pd.set_option('display.max_columns',50)\n",
    "#pd.set_option('display.max_rows',100)\n",
    "pd.set_option('display.width', 1000)\n",
    "np.set_printoptions(suppress=True)"
   ]
  },
  {
   "cell_type": "code",
   "execution_count": 3,
   "id": "8019c263-f27d-4fcd-bb95-31e46e82de7d",
   "metadata": {},
   "outputs": [],
   "source": [
    "df = pd.read_csv(\"packersELOdata.csv\")"
   ]
  },
  {
   "cell_type": "code",
   "execution_count": 4,
   "id": "52125e3b-99bc-4d19-b9e5-34b922327819",
   "metadata": {},
   "outputs": [
    {
     "data": {
      "text/html": [
       "<div>\n",
       "<style scoped>\n",
       "    .dataframe tbody tr th:only-of-type {\n",
       "        vertical-align: middle;\n",
       "    }\n",
       "\n",
       "    .dataframe tbody tr th {\n",
       "        vertical-align: top;\n",
       "    }\n",
       "\n",
       "    .dataframe thead th {\n",
       "        text-align: right;\n",
       "    }\n",
       "</style>\n",
       "<table border=\"1\" class=\"dataframe\">\n",
       "  <thead>\n",
       "    <tr style=\"text-align: right;\">\n",
       "      <th></th>\n",
       "      <th>season</th>\n",
       "      <th>neutral</th>\n",
       "      <th>playoff</th>\n",
       "      <th>team1</th>\n",
       "      <th>team2</th>\n",
       "      <th>elo1_pre</th>\n",
       "      <th>elo2_pre</th>\n",
       "      <th>elo_prob1</th>\n",
       "      <th>elo_prob2</th>\n",
       "      <th>elo1_post</th>\n",
       "      <th>elo2_post</th>\n",
       "      <th>qbelo1_pre</th>\n",
       "      <th>qbelo2_pre</th>\n",
       "      <th>qb1</th>\n",
       "      <th>qb2</th>\n",
       "      <th>qb1_value_pre</th>\n",
       "      <th>qb2_value_pre</th>\n",
       "      <th>qb1_adj</th>\n",
       "      <th>qb2_adj</th>\n",
       "      <th>qbelo_prob1</th>\n",
       "      <th>qbelo_prob2</th>\n",
       "      <th>qb1_game_value</th>\n",
       "      <th>qb2_game_value</th>\n",
       "      <th>qb1_value_post</th>\n",
       "      <th>qb2_value_post</th>\n",
       "      <th>qbelo1_post</th>\n",
       "      <th>qbelo2_post</th>\n",
       "      <th>score1</th>\n",
       "      <th>score2</th>\n",
       "      <th>quality</th>\n",
       "      <th>importance</th>\n",
       "      <th>total_rating</th>\n",
       "    </tr>\n",
       "  </thead>\n",
       "  <tbody>\n",
       "    <tr>\n",
       "      <th>0</th>\n",
       "      <td>1966</td>\n",
       "      <td>0</td>\n",
       "      <td>NaN</td>\n",
       "      <td>GB</td>\n",
       "      <td>IND</td>\n",
       "      <td>1617.725</td>\n",
       "      <td>1586.751</td>\n",
       "      <td>0.634709</td>\n",
       "      <td>0.365291</td>\n",
       "      <td>1639.363</td>\n",
       "      <td>1565.112</td>\n",
       "      <td>1606.881656</td>\n",
       "      <td>1608.973916</td>\n",
       "      <td>Bart Starr</td>\n",
       "      <td>Johnny Unitas</td>\n",
       "      <td>92.009419</td>\n",
       "      <td>162.344426</td>\n",
       "      <td>-3.540764</td>\n",
       "      <td>9.874700</td>\n",
       "      <td>0.558534</td>\n",
       "      <td>0.441466</td>\n",
       "      <td>184.927540</td>\n",
       "      <td>-12.850207</td>\n",
       "      <td>101.301231</td>\n",
       "      <td>144.824963</td>\n",
       "      <td>1633.675841</td>\n",
       "      <td>1582.179732</td>\n",
       "      <td>24</td>\n",
       "      <td>3</td>\n",
       "      <td>92.0</td>\n",
       "      <td>NaN</td>\n",
       "      <td>NaN</td>\n",
       "    </tr>\n",
       "    <tr>\n",
       "      <th>1</th>\n",
       "      <td>1966</td>\n",
       "      <td>0</td>\n",
       "      <td>NaN</td>\n",
       "      <td>CLE</td>\n",
       "      <td>GB</td>\n",
       "      <td>1582.318</td>\n",
       "      <td>1639.363</td>\n",
       "      <td>0.511446</td>\n",
       "      <td>0.488554</td>\n",
       "      <td>1575.202</td>\n",
       "      <td>1646.479</td>\n",
       "      <td>1582.851078</td>\n",
       "      <td>1633.675841</td>\n",
       "      <td>Frank Ryan</td>\n",
       "      <td>Bart Starr</td>\n",
       "      <td>94.381489</td>\n",
       "      <td>101.301231</td>\n",
       "      <td>3.637616</td>\n",
       "      <td>1.282180</td>\n",
       "      <td>0.511599</td>\n",
       "      <td>0.488401</td>\n",
       "      <td>234.218385</td>\n",
       "      <td>281.641138</td>\n",
       "      <td>108.365178</td>\n",
       "      <td>119.335222</td>\n",
       "      <td>1575.732732</td>\n",
       "      <td>1640.794187</td>\n",
       "      <td>20</td>\n",
       "      <td>21</td>\n",
       "      <td>92.0</td>\n",
       "      <td>NaN</td>\n",
       "      <td>NaN</td>\n",
       "    </tr>\n",
       "    <tr>\n",
       "      <th>2</th>\n",
       "      <td>1966</td>\n",
       "      <td>0</td>\n",
       "      <td>NaN</td>\n",
       "      <td>GB</td>\n",
       "      <td>LAR</td>\n",
       "      <td>1646.479</td>\n",
       "      <td>1516.079</td>\n",
       "      <td>0.754880</td>\n",
       "      <td>0.245120</td>\n",
       "      <td>1657.668</td>\n",
       "      <td>1504.891</td>\n",
       "      <td>1640.794187</td>\n",
       "      <td>1498.258347</td>\n",
       "      <td>Bart Starr</td>\n",
       "      <td>Roman Gabriel</td>\n",
       "      <td>119.335222</td>\n",
       "      <td>135.732348</td>\n",
       "      <td>10.235067</td>\n",
       "      <td>16.700544</td>\n",
       "      <td>0.752049</td>\n",
       "      <td>0.247951</td>\n",
       "      <td>254.456288</td>\n",
       "      <td>17.597618</td>\n",
       "      <td>132.847329</td>\n",
       "      <td>123.918875</td>\n",
       "      <td>1652.124194</td>\n",
       "      <td>1486.928340</td>\n",
       "      <td>24</td>\n",
       "      <td>13</td>\n",
       "      <td>84.0</td>\n",
       "      <td>NaN</td>\n",
       "      <td>NaN</td>\n",
       "    </tr>\n",
       "    <tr>\n",
       "      <th>3</th>\n",
       "      <td>1966</td>\n",
       "      <td>0</td>\n",
       "      <td>NaN</td>\n",
       "      <td>GB</td>\n",
       "      <td>DET</td>\n",
       "      <td>1657.668</td>\n",
       "      <td>1492.499</td>\n",
       "      <td>0.790006</td>\n",
       "      <td>0.209994</td>\n",
       "      <td>1666.422</td>\n",
       "      <td>1483.744</td>\n",
       "      <td>1652.124194</td>\n",
       "      <td>1502.172537</td>\n",
       "      <td>Bart Starr</td>\n",
       "      <td>Milt Plum</td>\n",
       "      <td>132.847329</td>\n",
       "      <td>50.923903</td>\n",
       "      <td>16.479367</td>\n",
       "      <td>-4.212413</td>\n",
       "      <td>0.786785</td>\n",
       "      <td>0.213215</td>\n",
       "      <td>226.626882</td>\n",
       "      <td>75.220927</td>\n",
       "      <td>142.225284</td>\n",
       "      <td>53.353606</td>\n",
       "      <td>1661.025416</td>\n",
       "      <td>1493.271314</td>\n",
       "      <td>23</td>\n",
       "      <td>14</td>\n",
       "      <td>84.0</td>\n",
       "      <td>NaN</td>\n",
       "      <td>NaN</td>\n",
       "    </tr>\n",
       "    <tr>\n",
       "      <th>4</th>\n",
       "      <td>1966</td>\n",
       "      <td>0</td>\n",
       "      <td>NaN</td>\n",
       "      <td>SF</td>\n",
       "      <td>GB</td>\n",
       "      <td>1469.961</td>\n",
       "      <td>1666.422</td>\n",
       "      <td>0.319352</td>\n",
       "      <td>0.680648</td>\n",
       "      <td>1479.997</td>\n",
       "      <td>1656.387</td>\n",
       "      <td>1463.972498</td>\n",
       "      <td>1661.025416</td>\n",
       "      <td>George Mira</td>\n",
       "      <td>Bart Starr</td>\n",
       "      <td>25.383454</td>\n",
       "      <td>142.225284</td>\n",
       "      <td>-98.523058</td>\n",
       "      <td>20.344376</td>\n",
       "      <td>0.188508</td>\n",
       "      <td>0.811492</td>\n",
       "      <td>152.244406</td>\n",
       "      <td>244.499884</td>\n",
       "      <td>38.069549</td>\n",
       "      <td>152.452744</td>\n",
       "      <td>1476.687776</td>\n",
       "      <td>1648.310139</td>\n",
       "      <td>21</td>\n",
       "      <td>20</td>\n",
       "      <td>52.0</td>\n",
       "      <td>NaN</td>\n",
       "      <td>NaN</td>\n",
       "    </tr>\n",
       "  </tbody>\n",
       "</table>\n",
       "</div>"
      ],
      "text/plain": [
       "   season  neutral playoff team1 team2  elo1_pre  elo2_pre  elo_prob1  elo_prob2  elo1_post  elo2_post   qbelo1_pre   qbelo2_pre          qb1            qb2  qb1_value_pre  qb2_value_pre    qb1_adj    qb2_adj  qbelo_prob1  qbelo_prob2  qb1_game_value  qb2_game_value  qb1_value_post  qb2_value_post  qbelo1_post  qbelo2_post  score1  score2  quality  importance  total_rating\n",
       "0    1966        0     NaN    GB   IND  1617.725  1586.751   0.634709   0.365291   1639.363   1565.112  1606.881656  1608.973916   Bart Starr  Johnny Unitas      92.009419     162.344426  -3.540764   9.874700     0.558534     0.441466      184.927540      -12.850207      101.301231      144.824963  1633.675841  1582.179732      24       3     92.0         NaN           NaN\n",
       "1    1966        0     NaN   CLE    GB  1582.318  1639.363   0.511446   0.488554   1575.202   1646.479  1582.851078  1633.675841   Frank Ryan     Bart Starr      94.381489     101.301231   3.637616   1.282180     0.511599     0.488401      234.218385      281.641138      108.365178      119.335222  1575.732732  1640.794187      20      21     92.0         NaN           NaN\n",
       "2    1966        0     NaN    GB   LAR  1646.479  1516.079   0.754880   0.245120   1657.668   1504.891  1640.794187  1498.258347   Bart Starr  Roman Gabriel     119.335222     135.732348  10.235067  16.700544     0.752049     0.247951      254.456288       17.597618      132.847329      123.918875  1652.124194  1486.928340      24      13     84.0         NaN           NaN\n",
       "3    1966        0     NaN    GB   DET  1657.668  1492.499   0.790006   0.209994   1666.422   1483.744  1652.124194  1502.172537   Bart Starr      Milt Plum     132.847329      50.923903  16.479367  -4.212413     0.786785     0.213215      226.626882       75.220927      142.225284       53.353606  1661.025416  1493.271314      23      14     84.0         NaN           NaN\n",
       "4    1966        0     NaN    SF    GB  1469.961  1666.422   0.319352   0.680648   1479.997   1656.387  1463.972498  1661.025416  George Mira     Bart Starr      25.383454     142.225284 -98.523058  20.344376     0.188508     0.811492      152.244406      244.499884       38.069549      152.452744  1476.687776  1648.310139      21      20     52.0         NaN           NaN"
      ]
     },
     "execution_count": 4,
     "metadata": {},
     "output_type": "execute_result"
    }
   ],
   "source": [
    "df.head()"
   ]
  },
  {
   "cell_type": "code",
   "execution_count": 5,
   "id": "ef8127e8-ae43-46f7-87a6-74ff28d639a8",
   "metadata": {},
   "outputs": [
    {
     "name": "stdout",
     "output_type": "stream",
     "text": [
      "<class 'pandas.core.frame.DataFrame'>\n",
      "RangeIndex: 916 entries, 0 to 915\n",
      "Data columns (total 32 columns):\n",
      " #   Column          Non-Null Count  Dtype  \n",
      "---  ------          --------------  -----  \n",
      " 0   season          916 non-null    int64  \n",
      " 1   neutral         916 non-null    int64  \n",
      " 2   playoff         51 non-null     object \n",
      " 3   team1           916 non-null    object \n",
      " 4   team2           916 non-null    object \n",
      " 5   elo1_pre        916 non-null    float64\n",
      " 6   elo2_pre        916 non-null    float64\n",
      " 7   elo_prob1       916 non-null    float64\n",
      " 8   elo_prob2       916 non-null    float64\n",
      " 9   elo1_post       916 non-null    float64\n",
      " 10  elo2_post       916 non-null    float64\n",
      " 11  qbelo1_pre      916 non-null    float64\n",
      " 12  qbelo2_pre      916 non-null    float64\n",
      " 13  qb1             916 non-null    object \n",
      " 14  qb2             916 non-null    object \n",
      " 15  qb1_value_pre   916 non-null    float64\n",
      " 16  qb2_value_pre   916 non-null    float64\n",
      " 17  qb1_adj         916 non-null    float64\n",
      " 18  qb2_adj         916 non-null    float64\n",
      " 19  qbelo_prob1     916 non-null    float64\n",
      " 20  qbelo_prob2     916 non-null    float64\n",
      " 21  qb1_game_value  916 non-null    float64\n",
      " 22  qb2_game_value  916 non-null    float64\n",
      " 23  qb1_value_post  916 non-null    float64\n",
      " 24  qb2_value_post  916 non-null    float64\n",
      " 25  qbelo1_post     916 non-null    float64\n",
      " 26  qbelo2_post     916 non-null    float64\n",
      " 27  score1          916 non-null    int64  \n",
      " 28  score2          916 non-null    int64  \n",
      " 29  quality         916 non-null    float64\n",
      " 30  importance      18 non-null     float64\n",
      " 31  total_rating    18 non-null     float64\n",
      "dtypes: float64(23), int64(4), object(5)\n",
      "memory usage: 229.1+ KB\n"
     ]
    }
   ],
   "source": [
    "df.info()"
   ]
  },
  {
   "cell_type": "code",
   "execution_count": 7,
   "id": "ba017471-e252-4109-813e-a5007d935c22",
   "metadata": {},
   "outputs": [],
   "source": [
    "df.fillna(0, inplace=True)"
   ]
  },
  {
   "cell_type": "code",
   "execution_count": 8,
   "id": "1b4ee11c-7733-4570-b269-edda30091dac",
   "metadata": {},
   "outputs": [
    {
     "name": "stdout",
     "output_type": "stream",
     "text": [
      "<class 'pandas.core.frame.DataFrame'>\n",
      "RangeIndex: 916 entries, 0 to 915\n",
      "Data columns (total 32 columns):\n",
      " #   Column          Non-Null Count  Dtype  \n",
      "---  ------          --------------  -----  \n",
      " 0   season          916 non-null    int64  \n",
      " 1   neutral         916 non-null    int64  \n",
      " 2   playoff         916 non-null    object \n",
      " 3   team1           916 non-null    object \n",
      " 4   team2           916 non-null    object \n",
      " 5   elo1_pre        916 non-null    float64\n",
      " 6   elo2_pre        916 non-null    float64\n",
      " 7   elo_prob1       916 non-null    float64\n",
      " 8   elo_prob2       916 non-null    float64\n",
      " 9   elo1_post       916 non-null    float64\n",
      " 10  elo2_post       916 non-null    float64\n",
      " 11  qbelo1_pre      916 non-null    float64\n",
      " 12  qbelo2_pre      916 non-null    float64\n",
      " 13  qb1             916 non-null    object \n",
      " 14  qb2             916 non-null    object \n",
      " 15  qb1_value_pre   916 non-null    float64\n",
      " 16  qb2_value_pre   916 non-null    float64\n",
      " 17  qb1_adj         916 non-null    float64\n",
      " 18  qb2_adj         916 non-null    float64\n",
      " 19  qbelo_prob1     916 non-null    float64\n",
      " 20  qbelo_prob2     916 non-null    float64\n",
      " 21  qb1_game_value  916 non-null    float64\n",
      " 22  qb2_game_value  916 non-null    float64\n",
      " 23  qb1_value_post  916 non-null    float64\n",
      " 24  qb2_value_post  916 non-null    float64\n",
      " 25  qbelo1_post     916 non-null    float64\n",
      " 26  qbelo2_post     916 non-null    float64\n",
      " 27  score1          916 non-null    int64  \n",
      " 28  score2          916 non-null    int64  \n",
      " 29  quality         916 non-null    float64\n",
      " 30  importance      916 non-null    float64\n",
      " 31  total_rating    916 non-null    float64\n",
      "dtypes: float64(23), int64(4), object(5)\n",
      "memory usage: 229.1+ KB\n"
     ]
    }
   ],
   "source": [
    "df.info()"
   ]
  },
  {
   "cell_type": "code",
   "execution_count": 14,
   "id": "f14c3838-a29a-424f-b3d6-4529de55d21a",
   "metadata": {},
   "outputs": [],
   "source": [
    "df.drop(['playoff', 'team1', 'team2', 'qb1', 'qb2'],axis=1,inplace=True)"
   ]
  },
  {
   "cell_type": "code",
   "execution_count": 16,
   "id": "9129c680-8e19-4dfc-8acd-90c894a583e9",
   "metadata": {},
   "outputs": [
    {
     "data": {
      "text/html": [
       "<div>\n",
       "<style scoped>\n",
       "    .dataframe tbody tr th:only-of-type {\n",
       "        vertical-align: middle;\n",
       "    }\n",
       "\n",
       "    .dataframe tbody tr th {\n",
       "        vertical-align: top;\n",
       "    }\n",
       "\n",
       "    .dataframe thead th {\n",
       "        text-align: right;\n",
       "    }\n",
       "</style>\n",
       "<table border=\"1\" class=\"dataframe\">\n",
       "  <thead>\n",
       "    <tr style=\"text-align: right;\">\n",
       "      <th></th>\n",
       "      <th>season</th>\n",
       "      <th>neutral</th>\n",
       "      <th>elo1_pre</th>\n",
       "      <th>elo2_pre</th>\n",
       "      <th>elo_prob1</th>\n",
       "      <th>elo_prob2</th>\n",
       "      <th>elo1_post</th>\n",
       "      <th>elo2_post</th>\n",
       "      <th>qbelo1_pre</th>\n",
       "      <th>qbelo2_pre</th>\n",
       "      <th>qb1_value_pre</th>\n",
       "      <th>qb2_value_pre</th>\n",
       "      <th>qb1_adj</th>\n",
       "      <th>qb2_adj</th>\n",
       "      <th>qbelo_prob1</th>\n",
       "      <th>qbelo_prob2</th>\n",
       "      <th>qb1_game_value</th>\n",
       "      <th>qb2_game_value</th>\n",
       "      <th>qb1_value_post</th>\n",
       "      <th>qb2_value_post</th>\n",
       "      <th>qbelo1_post</th>\n",
       "      <th>qbelo2_post</th>\n",
       "      <th>score1</th>\n",
       "      <th>score2</th>\n",
       "      <th>quality</th>\n",
       "      <th>importance</th>\n",
       "      <th>total_rating</th>\n",
       "    </tr>\n",
       "  </thead>\n",
       "  <tbody>\n",
       "    <tr>\n",
       "      <th>0</th>\n",
       "      <td>1966</td>\n",
       "      <td>0</td>\n",
       "      <td>1617.725</td>\n",
       "      <td>1586.751</td>\n",
       "      <td>0.634709</td>\n",
       "      <td>0.365291</td>\n",
       "      <td>1639.363</td>\n",
       "      <td>1565.112</td>\n",
       "      <td>1606.881656</td>\n",
       "      <td>1608.973916</td>\n",
       "      <td>92.009419</td>\n",
       "      <td>162.344426</td>\n",
       "      <td>-3.540764</td>\n",
       "      <td>9.874700</td>\n",
       "      <td>0.558534</td>\n",
       "      <td>0.441466</td>\n",
       "      <td>184.927540</td>\n",
       "      <td>-12.850207</td>\n",
       "      <td>101.301231</td>\n",
       "      <td>144.824963</td>\n",
       "      <td>1633.675841</td>\n",
       "      <td>1582.179732</td>\n",
       "      <td>24</td>\n",
       "      <td>3</td>\n",
       "      <td>92.0</td>\n",
       "      <td>0.0</td>\n",
       "      <td>0.0</td>\n",
       "    </tr>\n",
       "    <tr>\n",
       "      <th>1</th>\n",
       "      <td>1966</td>\n",
       "      <td>0</td>\n",
       "      <td>1582.318</td>\n",
       "      <td>1639.363</td>\n",
       "      <td>0.511446</td>\n",
       "      <td>0.488554</td>\n",
       "      <td>1575.202</td>\n",
       "      <td>1646.479</td>\n",
       "      <td>1582.851078</td>\n",
       "      <td>1633.675841</td>\n",
       "      <td>94.381489</td>\n",
       "      <td>101.301231</td>\n",
       "      <td>3.637616</td>\n",
       "      <td>1.282180</td>\n",
       "      <td>0.511599</td>\n",
       "      <td>0.488401</td>\n",
       "      <td>234.218385</td>\n",
       "      <td>281.641138</td>\n",
       "      <td>108.365178</td>\n",
       "      <td>119.335222</td>\n",
       "      <td>1575.732732</td>\n",
       "      <td>1640.794187</td>\n",
       "      <td>20</td>\n",
       "      <td>21</td>\n",
       "      <td>92.0</td>\n",
       "      <td>0.0</td>\n",
       "      <td>0.0</td>\n",
       "    </tr>\n",
       "    <tr>\n",
       "      <th>2</th>\n",
       "      <td>1966</td>\n",
       "      <td>0</td>\n",
       "      <td>1646.479</td>\n",
       "      <td>1516.079</td>\n",
       "      <td>0.754880</td>\n",
       "      <td>0.245120</td>\n",
       "      <td>1657.668</td>\n",
       "      <td>1504.891</td>\n",
       "      <td>1640.794187</td>\n",
       "      <td>1498.258347</td>\n",
       "      <td>119.335222</td>\n",
       "      <td>135.732348</td>\n",
       "      <td>10.235067</td>\n",
       "      <td>16.700544</td>\n",
       "      <td>0.752049</td>\n",
       "      <td>0.247951</td>\n",
       "      <td>254.456288</td>\n",
       "      <td>17.597618</td>\n",
       "      <td>132.847329</td>\n",
       "      <td>123.918875</td>\n",
       "      <td>1652.124194</td>\n",
       "      <td>1486.928340</td>\n",
       "      <td>24</td>\n",
       "      <td>13</td>\n",
       "      <td>84.0</td>\n",
       "      <td>0.0</td>\n",
       "      <td>0.0</td>\n",
       "    </tr>\n",
       "    <tr>\n",
       "      <th>3</th>\n",
       "      <td>1966</td>\n",
       "      <td>0</td>\n",
       "      <td>1657.668</td>\n",
       "      <td>1492.499</td>\n",
       "      <td>0.790006</td>\n",
       "      <td>0.209994</td>\n",
       "      <td>1666.422</td>\n",
       "      <td>1483.744</td>\n",
       "      <td>1652.124194</td>\n",
       "      <td>1502.172537</td>\n",
       "      <td>132.847329</td>\n",
       "      <td>50.923903</td>\n",
       "      <td>16.479367</td>\n",
       "      <td>-4.212413</td>\n",
       "      <td>0.786785</td>\n",
       "      <td>0.213215</td>\n",
       "      <td>226.626882</td>\n",
       "      <td>75.220927</td>\n",
       "      <td>142.225284</td>\n",
       "      <td>53.353606</td>\n",
       "      <td>1661.025416</td>\n",
       "      <td>1493.271314</td>\n",
       "      <td>23</td>\n",
       "      <td>14</td>\n",
       "      <td>84.0</td>\n",
       "      <td>0.0</td>\n",
       "      <td>0.0</td>\n",
       "    </tr>\n",
       "    <tr>\n",
       "      <th>4</th>\n",
       "      <td>1966</td>\n",
       "      <td>0</td>\n",
       "      <td>1469.961</td>\n",
       "      <td>1666.422</td>\n",
       "      <td>0.319352</td>\n",
       "      <td>0.680648</td>\n",
       "      <td>1479.997</td>\n",
       "      <td>1656.387</td>\n",
       "      <td>1463.972498</td>\n",
       "      <td>1661.025416</td>\n",
       "      <td>25.383454</td>\n",
       "      <td>142.225284</td>\n",
       "      <td>-98.523058</td>\n",
       "      <td>20.344376</td>\n",
       "      <td>0.188508</td>\n",
       "      <td>0.811492</td>\n",
       "      <td>152.244406</td>\n",
       "      <td>244.499884</td>\n",
       "      <td>38.069549</td>\n",
       "      <td>152.452744</td>\n",
       "      <td>1476.687776</td>\n",
       "      <td>1648.310139</td>\n",
       "      <td>21</td>\n",
       "      <td>20</td>\n",
       "      <td>52.0</td>\n",
       "      <td>0.0</td>\n",
       "      <td>0.0</td>\n",
       "    </tr>\n",
       "  </tbody>\n",
       "</table>\n",
       "</div>"
      ],
      "text/plain": [
       "   season  neutral  elo1_pre  elo2_pre  elo_prob1  elo_prob2  elo1_post  elo2_post   qbelo1_pre   qbelo2_pre  qb1_value_pre  qb2_value_pre    qb1_adj    qb2_adj  qbelo_prob1  qbelo_prob2  qb1_game_value  qb2_game_value  qb1_value_post  qb2_value_post  qbelo1_post  qbelo2_post  score1  score2  quality  importance  total_rating\n",
       "0    1966        0  1617.725  1586.751   0.634709   0.365291   1639.363   1565.112  1606.881656  1608.973916      92.009419     162.344426  -3.540764   9.874700     0.558534     0.441466      184.927540      -12.850207      101.301231      144.824963  1633.675841  1582.179732      24       3     92.0         0.0           0.0\n",
       "1    1966        0  1582.318  1639.363   0.511446   0.488554   1575.202   1646.479  1582.851078  1633.675841      94.381489     101.301231   3.637616   1.282180     0.511599     0.488401      234.218385      281.641138      108.365178      119.335222  1575.732732  1640.794187      20      21     92.0         0.0           0.0\n",
       "2    1966        0  1646.479  1516.079   0.754880   0.245120   1657.668   1504.891  1640.794187  1498.258347     119.335222     135.732348  10.235067  16.700544     0.752049     0.247951      254.456288       17.597618      132.847329      123.918875  1652.124194  1486.928340      24      13     84.0         0.0           0.0\n",
       "3    1966        0  1657.668  1492.499   0.790006   0.209994   1666.422   1483.744  1652.124194  1502.172537     132.847329      50.923903  16.479367  -4.212413     0.786785     0.213215      226.626882       75.220927      142.225284       53.353606  1661.025416  1493.271314      23      14     84.0         0.0           0.0\n",
       "4    1966        0  1469.961  1666.422   0.319352   0.680648   1479.997   1656.387  1463.972498  1661.025416      25.383454     142.225284 -98.523058  20.344376     0.188508     0.811492      152.244406      244.499884       38.069549      152.452744  1476.687776  1648.310139      21      20     52.0         0.0           0.0"
      ]
     },
     "execution_count": 16,
     "metadata": {},
     "output_type": "execute_result"
    }
   ],
   "source": [
    "df.head()"
   ]
  },
  {
   "cell_type": "code",
   "execution_count": 18,
   "id": "9ce97e1c-6bfa-4960-b541-d066fe0f9f58",
   "metadata": {},
   "outputs": [
    {
     "data": {
      "text/html": [
       "<div>\n",
       "<style scoped>\n",
       "    .dataframe tbody tr th:only-of-type {\n",
       "        vertical-align: middle;\n",
       "    }\n",
       "\n",
       "    .dataframe tbody tr th {\n",
       "        vertical-align: top;\n",
       "    }\n",
       "\n",
       "    .dataframe thead th {\n",
       "        text-align: right;\n",
       "    }\n",
       "</style>\n",
       "<table border=\"1\" class=\"dataframe\">\n",
       "  <thead>\n",
       "    <tr style=\"text-align: right;\">\n",
       "      <th></th>\n",
       "      <th>season</th>\n",
       "      <th>neutral</th>\n",
       "      <th>elo1_pre</th>\n",
       "      <th>elo2_pre</th>\n",
       "      <th>elo_prob1</th>\n",
       "      <th>elo_prob2</th>\n",
       "      <th>elo1_post</th>\n",
       "      <th>elo2_post</th>\n",
       "      <th>qbelo1_pre</th>\n",
       "      <th>qbelo2_pre</th>\n",
       "      <th>qb1_value_pre</th>\n",
       "      <th>qb2_value_pre</th>\n",
       "      <th>qb1_adj</th>\n",
       "      <th>qb2_adj</th>\n",
       "      <th>qbelo_prob1</th>\n",
       "      <th>qbelo_prob2</th>\n",
       "      <th>qb1_game_value</th>\n",
       "      <th>qb2_game_value</th>\n",
       "      <th>qb1_value_post</th>\n",
       "      <th>qb2_value_post</th>\n",
       "      <th>qbelo1_post</th>\n",
       "      <th>qbelo2_post</th>\n",
       "      <th>score1</th>\n",
       "      <th>score2</th>\n",
       "      <th>quality</th>\n",
       "      <th>importance</th>\n",
       "      <th>total_rating</th>\n",
       "    </tr>\n",
       "  </thead>\n",
       "  <tbody>\n",
       "    <tr>\n",
       "      <th>0</th>\n",
       "      <td>1966</td>\n",
       "      <td>0</td>\n",
       "      <td>1617.725000</td>\n",
       "      <td>1586.751000</td>\n",
       "      <td>0.634709</td>\n",
       "      <td>0.365291</td>\n",
       "      <td>1639.363000</td>\n",
       "      <td>1565.112000</td>\n",
       "      <td>1606.881656</td>\n",
       "      <td>1608.973916</td>\n",
       "      <td>92.009419</td>\n",
       "      <td>162.344426</td>\n",
       "      <td>-3.540764</td>\n",
       "      <td>9.874700</td>\n",
       "      <td>0.558534</td>\n",
       "      <td>0.441466</td>\n",
       "      <td>184.927540</td>\n",
       "      <td>-12.850207</td>\n",
       "      <td>101.301231</td>\n",
       "      <td>144.824963</td>\n",
       "      <td>1633.675841</td>\n",
       "      <td>1582.179732</td>\n",
       "      <td>24</td>\n",
       "      <td>3</td>\n",
       "      <td>92.0</td>\n",
       "      <td>0.0</td>\n",
       "      <td>0.0</td>\n",
       "    </tr>\n",
       "    <tr>\n",
       "      <th>1</th>\n",
       "      <td>1966</td>\n",
       "      <td>0</td>\n",
       "      <td>1582.318000</td>\n",
       "      <td>1639.363000</td>\n",
       "      <td>0.511446</td>\n",
       "      <td>0.488554</td>\n",
       "      <td>1575.202000</td>\n",
       "      <td>1646.479000</td>\n",
       "      <td>1582.851078</td>\n",
       "      <td>1633.675841</td>\n",
       "      <td>94.381489</td>\n",
       "      <td>101.301231</td>\n",
       "      <td>3.637616</td>\n",
       "      <td>1.282180</td>\n",
       "      <td>0.511599</td>\n",
       "      <td>0.488401</td>\n",
       "      <td>234.218385</td>\n",
       "      <td>281.641138</td>\n",
       "      <td>108.365178</td>\n",
       "      <td>119.335222</td>\n",
       "      <td>1575.732732</td>\n",
       "      <td>1640.794187</td>\n",
       "      <td>20</td>\n",
       "      <td>21</td>\n",
       "      <td>92.0</td>\n",
       "      <td>0.0</td>\n",
       "      <td>0.0</td>\n",
       "    </tr>\n",
       "    <tr>\n",
       "      <th>2</th>\n",
       "      <td>1966</td>\n",
       "      <td>0</td>\n",
       "      <td>1646.479000</td>\n",
       "      <td>1516.079000</td>\n",
       "      <td>0.754880</td>\n",
       "      <td>0.245120</td>\n",
       "      <td>1657.668000</td>\n",
       "      <td>1504.891000</td>\n",
       "      <td>1640.794187</td>\n",
       "      <td>1498.258347</td>\n",
       "      <td>119.335222</td>\n",
       "      <td>135.732348</td>\n",
       "      <td>10.235067</td>\n",
       "      <td>16.700544</td>\n",
       "      <td>0.752049</td>\n",
       "      <td>0.247951</td>\n",
       "      <td>254.456288</td>\n",
       "      <td>17.597618</td>\n",
       "      <td>132.847329</td>\n",
       "      <td>123.918875</td>\n",
       "      <td>1652.124194</td>\n",
       "      <td>1486.928340</td>\n",
       "      <td>24</td>\n",
       "      <td>13</td>\n",
       "      <td>84.0</td>\n",
       "      <td>0.0</td>\n",
       "      <td>0.0</td>\n",
       "    </tr>\n",
       "    <tr>\n",
       "      <th>3</th>\n",
       "      <td>1966</td>\n",
       "      <td>0</td>\n",
       "      <td>1657.668000</td>\n",
       "      <td>1492.499000</td>\n",
       "      <td>0.790006</td>\n",
       "      <td>0.209994</td>\n",
       "      <td>1666.422000</td>\n",
       "      <td>1483.744000</td>\n",
       "      <td>1652.124194</td>\n",
       "      <td>1502.172537</td>\n",
       "      <td>132.847329</td>\n",
       "      <td>50.923903</td>\n",
       "      <td>16.479367</td>\n",
       "      <td>-4.212413</td>\n",
       "      <td>0.786785</td>\n",
       "      <td>0.213215</td>\n",
       "      <td>226.626882</td>\n",
       "      <td>75.220927</td>\n",
       "      <td>142.225284</td>\n",
       "      <td>53.353606</td>\n",
       "      <td>1661.025416</td>\n",
       "      <td>1493.271314</td>\n",
       "      <td>23</td>\n",
       "      <td>14</td>\n",
       "      <td>84.0</td>\n",
       "      <td>0.0</td>\n",
       "      <td>0.0</td>\n",
       "    </tr>\n",
       "    <tr>\n",
       "      <th>4</th>\n",
       "      <td>1966</td>\n",
       "      <td>0</td>\n",
       "      <td>1469.961000</td>\n",
       "      <td>1666.422000</td>\n",
       "      <td>0.319352</td>\n",
       "      <td>0.680648</td>\n",
       "      <td>1479.997000</td>\n",
       "      <td>1656.387000</td>\n",
       "      <td>1463.972498</td>\n",
       "      <td>1661.025416</td>\n",
       "      <td>25.383454</td>\n",
       "      <td>142.225284</td>\n",
       "      <td>-98.523058</td>\n",
       "      <td>20.344376</td>\n",
       "      <td>0.188508</td>\n",
       "      <td>0.811492</td>\n",
       "      <td>152.244406</td>\n",
       "      <td>244.499884</td>\n",
       "      <td>38.069549</td>\n",
       "      <td>152.452744</td>\n",
       "      <td>1476.687776</td>\n",
       "      <td>1648.310139</td>\n",
       "      <td>21</td>\n",
       "      <td>20</td>\n",
       "      <td>52.0</td>\n",
       "      <td>0.0</td>\n",
       "      <td>0.0</td>\n",
       "    </tr>\n",
       "    <tr>\n",
       "      <th>...</th>\n",
       "      <td>...</td>\n",
       "      <td>...</td>\n",
       "      <td>...</td>\n",
       "      <td>...</td>\n",
       "      <td>...</td>\n",
       "      <td>...</td>\n",
       "      <td>...</td>\n",
       "      <td>...</td>\n",
       "      <td>...</td>\n",
       "      <td>...</td>\n",
       "      <td>...</td>\n",
       "      <td>...</td>\n",
       "      <td>...</td>\n",
       "      <td>...</td>\n",
       "      <td>...</td>\n",
       "      <td>...</td>\n",
       "      <td>...</td>\n",
       "      <td>...</td>\n",
       "      <td>...</td>\n",
       "      <td>...</td>\n",
       "      <td>...</td>\n",
       "      <td>...</td>\n",
       "      <td>...</td>\n",
       "      <td>...</td>\n",
       "      <td>...</td>\n",
       "      <td>...</td>\n",
       "      <td>...</td>\n",
       "    </tr>\n",
       "    <tr>\n",
       "      <th>911</th>\n",
       "      <td>2021</td>\n",
       "      <td>0</td>\n",
       "      <td>1571.269003</td>\n",
       "      <td>1669.434523</td>\n",
       "      <td>0.452415</td>\n",
       "      <td>0.547585</td>\n",
       "      <td>1565.090339</td>\n",
       "      <td>1675.613188</td>\n",
       "      <td>1571.771422</td>\n",
       "      <td>1644.588760</td>\n",
       "      <td>3.343388</td>\n",
       "      <td>257.968760</td>\n",
       "      <td>-174.193487</td>\n",
       "      <td>18.609774</td>\n",
       "      <td>0.232091</td>\n",
       "      <td>0.767909</td>\n",
       "      <td>447.231253</td>\n",
       "      <td>272.802876</td>\n",
       "      <td>47.732175</td>\n",
       "      <td>259.452172</td>\n",
       "      <td>1568.831705</td>\n",
       "      <td>1647.528477</td>\n",
       "      <td>30</td>\n",
       "      <td>31</td>\n",
       "      <td>58.0</td>\n",
       "      <td>89.0</td>\n",
       "      <td>74.0</td>\n",
       "    </tr>\n",
       "    <tr>\n",
       "      <th>912</th>\n",
       "      <td>2021</td>\n",
       "      <td>0</td>\n",
       "      <td>1675.613188</td>\n",
       "      <td>1508.198319</td>\n",
       "      <td>0.792142</td>\n",
       "      <td>0.207858</td>\n",
       "      <td>1679.743906</td>\n",
       "      <td>1504.067601</td>\n",
       "      <td>1647.528477</td>\n",
       "      <td>1522.642954</td>\n",
       "      <td>259.452172</td>\n",
       "      <td>114.951431</td>\n",
       "      <td>18.420991</td>\n",
       "      <td>-18.912013</td>\n",
       "      <td>0.778892</td>\n",
       "      <td>0.221108</td>\n",
       "      <td>290.001903</td>\n",
       "      <td>-98.544019</td>\n",
       "      <td>262.507145</td>\n",
       "      <td>93.601886</td>\n",
       "      <td>1651.947347</td>\n",
       "      <td>1518.224084</td>\n",
       "      <td>24</td>\n",
       "      <td>22</td>\n",
       "      <td>84.0</td>\n",
       "      <td>78.0</td>\n",
       "      <td>81.0</td>\n",
       "    </tr>\n",
       "    <tr>\n",
       "      <th>913</th>\n",
       "      <td>2021</td>\n",
       "      <td>0</td>\n",
       "      <td>1679.743906</td>\n",
       "      <td>1514.681059</td>\n",
       "      <td>0.789904</td>\n",
       "      <td>0.210096</td>\n",
       "      <td>1692.419962</td>\n",
       "      <td>1502.005003</td>\n",
       "      <td>1651.947347</td>\n",
       "      <td>1503.382525</td>\n",
       "      <td>262.507145</td>\n",
       "      <td>60.175799</td>\n",
       "      <td>19.027428</td>\n",
       "      <td>-135.929831</td>\n",
       "      <td>0.887928</td>\n",
       "      <td>0.112072</td>\n",
       "      <td>343.261603</td>\n",
       "      <td>138.669473</td>\n",
       "      <td>270.582591</td>\n",
       "      <td>68.025166</td>\n",
       "      <td>1658.367116</td>\n",
       "      <td>1496.962756</td>\n",
       "      <td>37</td>\n",
       "      <td>10</td>\n",
       "      <td>51.0</td>\n",
       "      <td>19.0</td>\n",
       "      <td>35.0</td>\n",
       "    </tr>\n",
       "    <tr>\n",
       "      <th>914</th>\n",
       "      <td>2021</td>\n",
       "      <td>0</td>\n",
       "      <td>1315.123093</td>\n",
       "      <td>1692.419962</td>\n",
       "      <td>0.142128</td>\n",
       "      <td>0.857872</td>\n",
       "      <td>1356.703438</td>\n",
       "      <td>1650.839616</td>\n",
       "      <td>1318.922234</td>\n",
       "      <td>1658.367116</td>\n",
       "      <td>142.319883</td>\n",
       "      <td>270.582591</td>\n",
       "      <td>5.323214</td>\n",
       "      <td>22.113780</td>\n",
       "      <td>0.428447</td>\n",
       "      <td>0.571553</td>\n",
       "      <td>246.542291</td>\n",
       "      <td>113.312705</td>\n",
       "      <td>152.742124</td>\n",
       "      <td>254.855602</td>\n",
       "      <td>1318.922234</td>\n",
       "      <td>1658.367116</td>\n",
       "      <td>37</td>\n",
       "      <td>30</td>\n",
       "      <td>38.0</td>\n",
       "      <td>1.0</td>\n",
       "      <td>20.0</td>\n",
       "    </tr>\n",
       "    <tr>\n",
       "      <th>915</th>\n",
       "      <td>2021</td>\n",
       "      <td>0</td>\n",
       "      <td>1650.839616</td>\n",
       "      <td>1602.231233</td>\n",
       "      <td>0.657907</td>\n",
       "      <td>0.342093</td>\n",
       "      <td>1631.605288</td>\n",
       "      <td>1621.465562</td>\n",
       "      <td>1658.367116</td>\n",
       "      <td>1608.794086</td>\n",
       "      <td>270.582591</td>\n",
       "      <td>137.846302</td>\n",
       "      <td>22.113780</td>\n",
       "      <td>-1.305579</td>\n",
       "      <td>0.751668</td>\n",
       "      <td>0.248332</td>\n",
       "      <td>45.903479</td>\n",
       "      <td>-66.627709</td>\n",
       "      <td>248.114679</td>\n",
       "      <td>117.398901</td>\n",
       "      <td>1635.529183</td>\n",
       "      <td>1631.632019</td>\n",
       "      <td>10</td>\n",
       "      <td>13</td>\n",
       "      <td>97.0</td>\n",
       "      <td>100.0</td>\n",
       "      <td>99.0</td>\n",
       "    </tr>\n",
       "  </tbody>\n",
       "</table>\n",
       "<p>916 rows × 27 columns</p>\n",
       "</div>"
      ],
      "text/plain": [
       "     season  neutral     elo1_pre     elo2_pre  elo_prob1  elo_prob2    elo1_post    elo2_post   qbelo1_pre   qbelo2_pre  qb1_value_pre  qb2_value_pre     qb1_adj     qb2_adj  qbelo_prob1  qbelo_prob2  qb1_game_value  qb2_game_value  qb1_value_post  qb2_value_post  qbelo1_post  qbelo2_post  score1  score2  quality  importance  total_rating\n",
       "0      1966        0  1617.725000  1586.751000   0.634709   0.365291  1639.363000  1565.112000  1606.881656  1608.973916      92.009419     162.344426   -3.540764    9.874700     0.558534     0.441466      184.927540      -12.850207      101.301231      144.824963  1633.675841  1582.179732      24       3     92.0         0.0           0.0\n",
       "1      1966        0  1582.318000  1639.363000   0.511446   0.488554  1575.202000  1646.479000  1582.851078  1633.675841      94.381489     101.301231    3.637616    1.282180     0.511599     0.488401      234.218385      281.641138      108.365178      119.335222  1575.732732  1640.794187      20      21     92.0         0.0           0.0\n",
       "2      1966        0  1646.479000  1516.079000   0.754880   0.245120  1657.668000  1504.891000  1640.794187  1498.258347     119.335222     135.732348   10.235067   16.700544     0.752049     0.247951      254.456288       17.597618      132.847329      123.918875  1652.124194  1486.928340      24      13     84.0         0.0           0.0\n",
       "3      1966        0  1657.668000  1492.499000   0.790006   0.209994  1666.422000  1483.744000  1652.124194  1502.172537     132.847329      50.923903   16.479367   -4.212413     0.786785     0.213215      226.626882       75.220927      142.225284       53.353606  1661.025416  1493.271314      23      14     84.0         0.0           0.0\n",
       "4      1966        0  1469.961000  1666.422000   0.319352   0.680648  1479.997000  1656.387000  1463.972498  1661.025416      25.383454     142.225284  -98.523058   20.344376     0.188508     0.811492      152.244406      244.499884       38.069549      152.452744  1476.687776  1648.310139      21      20     52.0         0.0           0.0\n",
       "..      ...      ...          ...          ...        ...        ...          ...          ...          ...          ...            ...            ...         ...         ...          ...          ...             ...             ...             ...             ...          ...          ...     ...     ...      ...         ...           ...\n",
       "911    2021        0  1571.269003  1669.434523   0.452415   0.547585  1565.090339  1675.613188  1571.771422  1644.588760       3.343388     257.968760 -174.193487   18.609774     0.232091     0.767909      447.231253      272.802876       47.732175      259.452172  1568.831705  1647.528477      30      31     58.0        89.0          74.0\n",
       "912    2021        0  1675.613188  1508.198319   0.792142   0.207858  1679.743906  1504.067601  1647.528477  1522.642954     259.452172     114.951431   18.420991  -18.912013     0.778892     0.221108      290.001903      -98.544019      262.507145       93.601886  1651.947347  1518.224084      24      22     84.0        78.0          81.0\n",
       "913    2021        0  1679.743906  1514.681059   0.789904   0.210096  1692.419962  1502.005003  1651.947347  1503.382525     262.507145      60.175799   19.027428 -135.929831     0.887928     0.112072      343.261603      138.669473      270.582591       68.025166  1658.367116  1496.962756      37      10     51.0        19.0          35.0\n",
       "914    2021        0  1315.123093  1692.419962   0.142128   0.857872  1356.703438  1650.839616  1318.922234  1658.367116     142.319883     270.582591    5.323214   22.113780     0.428447     0.571553      246.542291      113.312705      152.742124      254.855602  1318.922234  1658.367116      37      30     38.0         1.0          20.0\n",
       "915    2021        0  1650.839616  1602.231233   0.657907   0.342093  1631.605288  1621.465562  1658.367116  1608.794086     270.582591     137.846302   22.113780   -1.305579     0.751668     0.248332       45.903479      -66.627709      248.114679      117.398901  1635.529183  1631.632019      10      13     97.0       100.0          99.0\n",
       "\n",
       "[916 rows x 27 columns]"
      ]
     },
     "execution_count": 18,
     "metadata": {},
     "output_type": "execute_result"
    }
   ],
   "source": [
    "df"
   ]
  },
  {
   "cell_type": "code",
   "execution_count": 20,
   "id": "cd427012-922c-4c73-9ff1-8a090fc03254",
   "metadata": {},
   "outputs": [],
   "source": [
    "X = df.iloc[:,0:26]\n",
    "y = df.iloc[:,26]"
   ]
  },
  {
   "cell_type": "code",
   "execution_count": 21,
   "id": "66f89ea6-4ef8-409a-ad5c-7b4ce59c4fec",
   "metadata": {},
   "outputs": [
    {
     "data": {
      "text/plain": [
       "(array([[1966.        ,    0.        , 1617.725     , ...,    3.        ,\n",
       "           92.        ,    0.        ],\n",
       "        [1966.        ,    0.        , 1582.318     , ...,   21.        ,\n",
       "           92.        ,    0.        ],\n",
       "        [1966.        ,    0.        , 1646.479     , ...,   13.        ,\n",
       "           84.        ,    0.        ],\n",
       "        ...,\n",
       "        [2021.        ,    0.        , 1679.74390585, ...,   10.        ,\n",
       "           51.        ,   19.        ],\n",
       "        [2021.        ,    0.        , 1315.12309293, ...,   30.        ,\n",
       "           38.        ,    1.        ],\n",
       "        [2021.        ,    0.        , 1650.8396161 , ...,   13.        ,\n",
       "           97.        ,  100.        ]]),\n",
       " array([ 0.,  0.,  0.,  0.,  0.,  0.,  0.,  0.,  0.,  0.,  0.,  0.,  0.,\n",
       "         0.,  0.,  0.,  0.,  0.,  0.,  0.,  0.,  0.,  0.,  0.,  0.,  0.,\n",
       "         0.,  0.,  0.,  0.,  0.,  0.,  0.,  0.,  0.,  0.,  0.,  0.,  0.,\n",
       "         0.,  0.,  0.,  0.,  0.,  0.,  0.,  0.,  0.,  0.,  0.,  0.,  0.,\n",
       "         0.,  0.,  0.,  0.,  0.,  0.,  0.,  0.,  0.,  0.,  0.,  0.,  0.,\n",
       "         0.,  0.,  0.,  0.,  0.,  0.,  0.,  0.,  0.,  0.,  0.,  0.,  0.,\n",
       "         0.,  0.,  0.,  0.,  0.,  0.,  0.,  0.,  0.,  0.,  0.,  0.,  0.,\n",
       "         0.,  0.,  0.,  0.,  0.,  0.,  0.,  0.,  0.,  0.,  0.,  0.,  0.,\n",
       "         0.,  0.,  0.,  0.,  0.,  0.,  0.,  0.,  0.,  0.,  0.,  0.,  0.,\n",
       "         0.,  0.,  0.,  0.,  0.,  0.,  0.,  0.,  0.,  0.,  0.,  0.,  0.,\n",
       "         0.,  0.,  0.,  0.,  0.,  0.,  0.,  0.,  0.,  0.,  0.,  0.,  0.,\n",
       "         0.,  0.,  0.,  0.,  0.,  0.,  0.,  0.,  0.,  0.,  0.,  0.,  0.,\n",
       "         0.,  0.,  0.,  0.,  0.,  0.,  0.,  0.,  0.,  0.,  0.,  0.,  0.,\n",
       "         0.,  0.,  0.,  0.,  0.,  0.,  0.,  0.,  0.,  0.,  0.,  0.,  0.,\n",
       "         0.,  0.,  0.,  0.,  0.,  0.,  0.,  0.,  0.,  0.,  0.,  0.,  0.,\n",
       "         0.,  0.,  0.,  0.,  0.,  0.,  0.,  0.,  0.,  0.,  0.,  0.,  0.,\n",
       "         0.,  0.,  0.,  0.,  0.,  0.,  0.,  0.,  0.,  0.,  0.,  0.,  0.,\n",
       "         0.,  0.,  0.,  0.,  0.,  0.,  0.,  0.,  0.,  0.,  0.,  0.,  0.,\n",
       "         0.,  0.,  0.,  0.,  0.,  0.,  0.,  0.,  0.,  0.,  0.,  0.,  0.,\n",
       "         0.,  0.,  0.,  0.,  0.,  0.,  0.,  0.,  0.,  0.,  0.,  0.,  0.,\n",
       "         0.,  0.,  0.,  0.,  0.,  0.,  0.,  0.,  0.,  0.,  0.,  0.,  0.,\n",
       "         0.,  0.,  0.,  0.,  0.,  0.,  0.,  0.,  0.,  0.,  0.,  0.,  0.,\n",
       "         0.,  0.,  0.,  0.,  0.,  0.,  0.,  0.,  0.,  0.,  0.,  0.,  0.,\n",
       "         0.,  0.,  0.,  0.,  0.,  0.,  0.,  0.,  0.,  0.,  0.,  0.,  0.,\n",
       "         0.,  0.,  0.,  0.,  0.,  0.,  0.,  0.,  0.,  0.,  0.,  0.,  0.,\n",
       "         0.,  0.,  0.,  0.,  0.,  0.,  0.,  0.,  0.,  0.,  0.,  0.,  0.,\n",
       "         0.,  0.,  0.,  0.,  0.,  0.,  0.,  0.,  0.,  0.,  0.,  0.,  0.,\n",
       "         0.,  0.,  0.,  0.,  0.,  0.,  0.,  0.,  0.,  0.,  0.,  0.,  0.,\n",
       "         0.,  0.,  0.,  0.,  0.,  0.,  0.,  0.,  0.,  0.,  0.,  0.,  0.,\n",
       "         0.,  0.,  0.,  0.,  0.,  0.,  0.,  0.,  0.,  0.,  0.,  0.,  0.,\n",
       "         0.,  0.,  0.,  0.,  0.,  0.,  0.,  0.,  0.,  0.,  0.,  0.,  0.,\n",
       "         0.,  0.,  0.,  0.,  0.,  0.,  0.,  0.,  0.,  0.,  0.,  0.,  0.,\n",
       "         0.,  0.,  0.,  0.,  0.,  0.,  0.,  0.,  0.,  0.,  0.,  0.,  0.,\n",
       "         0.,  0.,  0.,  0.,  0.,  0.,  0.,  0.,  0.,  0.,  0.,  0.,  0.,\n",
       "         0.,  0.,  0.,  0.,  0.,  0.,  0.,  0.,  0.,  0.,  0.,  0.,  0.,\n",
       "         0.,  0.,  0.,  0.,  0.,  0.,  0.,  0.,  0.,  0.,  0.,  0.,  0.,\n",
       "         0.,  0.,  0.,  0.,  0.,  0.,  0.,  0.,  0.,  0.,  0.,  0.,  0.,\n",
       "         0.,  0.,  0.,  0.,  0.,  0.,  0.,  0.,  0.,  0.,  0.,  0.,  0.,\n",
       "         0.,  0.,  0.,  0.,  0.,  0.,  0.,  0.,  0.,  0.,  0.,  0.,  0.,\n",
       "         0.,  0.,  0.,  0.,  0.,  0.,  0.,  0.,  0.,  0.,  0.,  0.,  0.,\n",
       "         0.,  0.,  0.,  0.,  0.,  0.,  0.,  0.,  0.,  0.,  0.,  0.,  0.,\n",
       "         0.,  0.,  0.,  0.,  0.,  0.,  0.,  0.,  0.,  0.,  0.,  0.,  0.,\n",
       "         0.,  0.,  0.,  0.,  0.,  0.,  0.,  0.,  0.,  0.,  0.,  0.,  0.,\n",
       "         0.,  0.,  0.,  0.,  0.,  0.,  0.,  0.,  0.,  0.,  0.,  0.,  0.,\n",
       "         0.,  0.,  0.,  0.,  0.,  0.,  0.,  0.,  0.,  0.,  0.,  0.,  0.,\n",
       "         0.,  0.,  0.,  0.,  0.,  0.,  0.,  0.,  0.,  0.,  0.,  0.,  0.,\n",
       "         0.,  0.,  0.,  0.,  0.,  0.,  0.,  0.,  0.,  0.,  0.,  0.,  0.,\n",
       "         0.,  0.,  0.,  0.,  0.,  0.,  0.,  0.,  0.,  0.,  0.,  0.,  0.,\n",
       "         0.,  0.,  0.,  0.,  0.,  0.,  0.,  0.,  0.,  0.,  0.,  0.,  0.,\n",
       "         0.,  0.,  0.,  0.,  0.,  0.,  0.,  0.,  0.,  0.,  0.,  0.,  0.,\n",
       "         0.,  0.,  0.,  0.,  0.,  0.,  0.,  0.,  0.,  0.,  0.,  0.,  0.,\n",
       "         0.,  0.,  0.,  0.,  0.,  0.,  0.,  0.,  0.,  0.,  0.,  0.,  0.,\n",
       "         0.,  0.,  0.,  0.,  0.,  0.,  0.,  0.,  0.,  0.,  0.,  0.,  0.,\n",
       "         0.,  0.,  0.,  0.,  0.,  0.,  0.,  0.,  0.,  0.,  0.,  0.,  0.,\n",
       "         0.,  0.,  0.,  0.,  0.,  0.,  0.,  0.,  0.,  0.,  0.,  0.,  0.,\n",
       "         0.,  0.,  0.,  0.,  0.,  0.,  0.,  0.,  0.,  0.,  0.,  0.,  0.,\n",
       "         0.,  0.,  0.,  0.,  0.,  0.,  0.,  0.,  0.,  0.,  0.,  0.,  0.,\n",
       "         0.,  0.,  0.,  0.,  0.,  0.,  0.,  0.,  0.,  0.,  0.,  0.,  0.,\n",
       "         0.,  0.,  0.,  0.,  0.,  0.,  0.,  0.,  0.,  0.,  0.,  0.,  0.,\n",
       "         0.,  0.,  0.,  0.,  0.,  0.,  0.,  0.,  0.,  0.,  0.,  0.,  0.,\n",
       "         0.,  0.,  0.,  0.,  0.,  0.,  0.,  0.,  0.,  0.,  0.,  0.,  0.,\n",
       "         0.,  0.,  0.,  0.,  0.,  0.,  0.,  0.,  0.,  0.,  0.,  0.,  0.,\n",
       "         0.,  0.,  0.,  0.,  0.,  0.,  0.,  0.,  0.,  0.,  0.,  0.,  0.,\n",
       "         0.,  0.,  0.,  0.,  0.,  0.,  0.,  0.,  0.,  0.,  0.,  0.,  0.,\n",
       "         0.,  0.,  0.,  0.,  0.,  0.,  0.,  0.,  0.,  0.,  0.,  0.,  0.,\n",
       "         0.,  0.,  0.,  0.,  0.,  0.,  0.,  0.,  0.,  0.,  0.,  0.,  0.,\n",
       "         0.,  0.,  0.,  0.,  0.,  0.,  0.,  0.,  0.,  0.,  0.,  0.,  0.,\n",
       "         0.,  0.,  0.,  0.,  0.,  0.,  0.,  0.,  0.,  0.,  0.,  0.,  0.,\n",
       "         0.,  0.,  0.,  0.,  0.,  0.,  0.,  0.,  0.,  0.,  0.,  0.,  0.,\n",
       "         0., 77., 27., 74., 44., 62., 70., 29., 89., 70., 78., 90., 75.,\n",
       "        32., 74., 81., 35., 20., 99.]))"
      ]
     },
     "execution_count": 21,
     "metadata": {},
     "output_type": "execute_result"
    }
   ],
   "source": [
    "X.values, y.values"
   ]
  },
  {
   "cell_type": "code",
   "execution_count": 22,
   "id": "fe885a6e-34ab-4a04-939d-251c87c393ce",
   "metadata": {},
   "outputs": [],
   "source": [
    "X_train, X_test, y_train, y_test = train_test_split(X, y, test_size=0.25, random_state=0)"
   ]
  },
  {
   "cell_type": "code",
   "execution_count": 30,
   "id": "707bed78-9661-48d5-a84a-327412fe33bc",
   "metadata": {},
   "outputs": [
    {
     "data": {
      "text/plain": [
       "((687, 26), (229, 26), (687,), (229,))"
      ]
     },
     "execution_count": 30,
     "metadata": {},
     "output_type": "execute_result"
    }
   ],
   "source": [
    "X_train.shape, X_test.shape, y_train.shape, y_test.shape"
   ]
  },
  {
   "cell_type": "markdown",
   "id": "e84ec4ad-3b3c-4029-85d4-0d296acac49b",
   "metadata": {},
   "source": [
    "#### LINEAR REGRESSION"
   ]
  },
  {
   "cell_type": "code",
   "execution_count": 24,
   "id": "ffacae53-271a-46a6-8977-bcced5ed3b2e",
   "metadata": {},
   "outputs": [],
   "source": [
    "lr = LinearRegression()"
   ]
  },
  {
   "cell_type": "code",
   "execution_count": 25,
   "id": "8caf782c-3e8b-40e9-b8c0-1bd345822b82",
   "metadata": {},
   "outputs": [],
   "source": [
    "model1 = lr.fit(X_train,y_train)"
   ]
  },
  {
   "cell_type": "code",
   "execution_count": 26,
   "id": "50e96a92-c4f4-4acf-81c2-275c7502a0fa",
   "metadata": {},
   "outputs": [
    {
     "data": {
      "text/html": [
       "<style>#sk-container-id-1 {color: black;background-color: white;}#sk-container-id-1 pre{padding: 0;}#sk-container-id-1 div.sk-toggleable {background-color: white;}#sk-container-id-1 label.sk-toggleable__label {cursor: pointer;display: block;width: 100%;margin-bottom: 0;padding: 0.3em;box-sizing: border-box;text-align: center;}#sk-container-id-1 label.sk-toggleable__label-arrow:before {content: \"▸\";float: left;margin-right: 0.25em;color: #696969;}#sk-container-id-1 label.sk-toggleable__label-arrow:hover:before {color: black;}#sk-container-id-1 div.sk-estimator:hover label.sk-toggleable__label-arrow:before {color: black;}#sk-container-id-1 div.sk-toggleable__content {max-height: 0;max-width: 0;overflow: hidden;text-align: left;background-color: #f0f8ff;}#sk-container-id-1 div.sk-toggleable__content pre {margin: 0.2em;color: black;border-radius: 0.25em;background-color: #f0f8ff;}#sk-container-id-1 input.sk-toggleable__control:checked~div.sk-toggleable__content {max-height: 200px;max-width: 100%;overflow: auto;}#sk-container-id-1 input.sk-toggleable__control:checked~label.sk-toggleable__label-arrow:before {content: \"▾\";}#sk-container-id-1 div.sk-estimator input.sk-toggleable__control:checked~label.sk-toggleable__label {background-color: #d4ebff;}#sk-container-id-1 div.sk-label input.sk-toggleable__control:checked~label.sk-toggleable__label {background-color: #d4ebff;}#sk-container-id-1 input.sk-hidden--visually {border: 0;clip: rect(1px 1px 1px 1px);clip: rect(1px, 1px, 1px, 1px);height: 1px;margin: -1px;overflow: hidden;padding: 0;position: absolute;width: 1px;}#sk-container-id-1 div.sk-estimator {font-family: monospace;background-color: #f0f8ff;border: 1px dotted black;border-radius: 0.25em;box-sizing: border-box;margin-bottom: 0.5em;}#sk-container-id-1 div.sk-estimator:hover {background-color: #d4ebff;}#sk-container-id-1 div.sk-parallel-item::after {content: \"\";width: 100%;border-bottom: 1px solid gray;flex-grow: 1;}#sk-container-id-1 div.sk-label:hover label.sk-toggleable__label {background-color: #d4ebff;}#sk-container-id-1 div.sk-serial::before {content: \"\";position: absolute;border-left: 1px solid gray;box-sizing: border-box;top: 0;bottom: 0;left: 50%;z-index: 0;}#sk-container-id-1 div.sk-serial {display: flex;flex-direction: column;align-items: center;background-color: white;padding-right: 0.2em;padding-left: 0.2em;position: relative;}#sk-container-id-1 div.sk-item {position: relative;z-index: 1;}#sk-container-id-1 div.sk-parallel {display: flex;align-items: stretch;justify-content: center;background-color: white;position: relative;}#sk-container-id-1 div.sk-item::before, #sk-container-id-1 div.sk-parallel-item::before {content: \"\";position: absolute;border-left: 1px solid gray;box-sizing: border-box;top: 0;bottom: 0;left: 50%;z-index: -1;}#sk-container-id-1 div.sk-parallel-item {display: flex;flex-direction: column;z-index: 1;position: relative;background-color: white;}#sk-container-id-1 div.sk-parallel-item:first-child::after {align-self: flex-end;width: 50%;}#sk-container-id-1 div.sk-parallel-item:last-child::after {align-self: flex-start;width: 50%;}#sk-container-id-1 div.sk-parallel-item:only-child::after {width: 0;}#sk-container-id-1 div.sk-dashed-wrapped {border: 1px dashed gray;margin: 0 0.4em 0.5em 0.4em;box-sizing: border-box;padding-bottom: 0.4em;background-color: white;}#sk-container-id-1 div.sk-label label {font-family: monospace;font-weight: bold;display: inline-block;line-height: 1.2em;}#sk-container-id-1 div.sk-label-container {text-align: center;}#sk-container-id-1 div.sk-container {/* jupyter's `normalize.less` sets `[hidden] { display: none; }` but bootstrap.min.css set `[hidden] { display: none !important; }` so we also need the `!important` here to be able to override the default hidden behavior on the sphinx rendered scikit-learn.org. See: https://github.com/scikit-learn/scikit-learn/issues/21755 */display: inline-block !important;position: relative;}#sk-container-id-1 div.sk-text-repr-fallback {display: none;}</style><div id=\"sk-container-id-1\" class=\"sk-top-container\"><div class=\"sk-text-repr-fallback\"><pre>LinearRegression()</pre><b>In a Jupyter environment, please rerun this cell to show the HTML representation or trust the notebook. <br />On GitHub, the HTML representation is unable to render, please try loading this page with nbviewer.org.</b></div><div class=\"sk-container\" hidden><div class=\"sk-item\"><div class=\"sk-estimator sk-toggleable\"><input class=\"sk-toggleable__control sk-hidden--visually\" id=\"sk-estimator-id-1\" type=\"checkbox\" checked><label for=\"sk-estimator-id-1\" class=\"sk-toggleable__label sk-toggleable__label-arrow\">LinearRegression</label><div class=\"sk-toggleable__content\"><pre>LinearRegression()</pre></div></div></div></div></div>"
      ],
      "text/plain": [
       "LinearRegression()"
      ]
     },
     "execution_count": 26,
     "metadata": {},
     "output_type": "execute_result"
    }
   ],
   "source": [
    "model1"
   ]
  },
  {
   "cell_type": "code",
   "execution_count": 27,
   "id": "6ea67bd4-818a-4d92-83e3-860d1670ae4c",
   "metadata": {},
   "outputs": [],
   "source": [
    "lrprediction = model1.predict(X_test)"
   ]
  },
  {
   "cell_type": "code",
   "execution_count": 28,
   "id": "0a3c4112-28f3-4c07-a0d6-e793641b466b",
   "metadata": {},
   "outputs": [
    {
     "data": {
      "text/plain": [
       "array([-0.50617479,  0.58632221, -0.00845237, -0.12650259, -0.38999534,\n",
       "       -0.07153904, -0.39774978, 75.14793095, -0.05096875, -0.1962658 ,\n",
       "        0.6032193 ,  0.27343961,  0.49944205,  0.3480648 ,  0.36788274,\n",
       "        0.1148796 ,  0.39922055, -0.11857175, -0.30922415,  0.17621787,\n",
       "        0.41500565, -0.02059105, -0.02830539, -0.20717206, -0.15747795,\n",
       "        0.46057552,  0.26330315, -0.20951794, -0.19031756,  0.06450557,\n",
       "        0.11768019,  0.1628855 , -0.4009022 , -0.05611932,  0.46316553,\n",
       "       -0.82939475,  0.03579113, -0.22547121, -0.07420937,  0.16479147,\n",
       "        0.64348598, -0.38045563, -0.07406352,  0.01332346,  0.69720119,\n",
       "        0.48523502,  0.2251451 , -0.16771061,  0.08844512,  0.34685527,\n",
       "        0.67320644,  0.63203646,  0.42814087, 57.57292365, -0.12689022,\n",
       "       -0.03195396, -0.34167314,  0.38209377, -0.23481123,  0.21935058,\n",
       "        0.19441247, -0.00462579, -0.31834049,  0.29683573,  0.45030272,\n",
       "        0.07797852,  0.32461487, -0.56513965,  0.06898055, -0.15374025,\n",
       "       -0.3950527 ,  0.35980034, -0.13436011,  0.19487812,  0.31679479,\n",
       "        0.27225851,  0.25847159,  1.16115744,  0.02640842, -0.06224606,\n",
       "        0.16920812,  0.24066492,  0.29093491,  0.0888233 , -0.1004884 ,\n",
       "       -0.16459799, -0.34291812,  0.90431923, -0.37690766,  0.19070968,\n",
       "       -0.32544495, -0.37937437,  0.30040643,  0.15494073, -0.58781223,\n",
       "       -0.16896948,  0.07814827, -0.4801816 , -1.02376879, -0.74680851,\n",
       "        0.08473357, -0.09214189,  2.16687131, -0.05896681,  0.06467049,\n",
       "        0.13501458,  0.51244707,  0.3333624 ,  0.72440668, -0.1687034 ,\n",
       "        0.2854798 , -0.02100796, -0.12399296, 70.58508214,  0.1814284 ,\n",
       "       -0.08343672,  0.94185296,  0.27755035, -0.43619808, -0.18390748,\n",
       "       -0.11236157,  0.45436368,  0.41807834, -0.1518846 ,  0.04261178,\n",
       "       -0.16122626, -0.02619432,  0.55871064, -0.89395947,  0.71484744,\n",
       "        0.90397616, 78.73309771,  0.18443144, -0.04881257,  0.38741184,\n",
       "        0.39668453,  0.31613492,  0.28290507, -0.91338961,  0.27994397,\n",
       "        0.04375865,  0.40201348,  0.26179385,  0.02736881,  0.08177344,\n",
       "       -0.09525964,  0.38196905,  0.06046096, -0.37908865,  0.35546008,\n",
       "        0.30209322,  1.49955437,  0.29328937, -0.6534894 , -0.13306626,\n",
       "       -0.54431909,  0.35883105,  0.04689108, -0.04540528,  0.24835871,\n",
       "        0.68868022,  0.29053858,  0.66730513,  0.27090869, -0.20998174,\n",
       "        0.14344988,  0.21120928,  0.14196556,  0.85726401,  0.24213578,\n",
       "        0.2038925 , -0.03488347, -0.06661805, -0.84822333,  0.59645353,\n",
       "        0.10290832,  0.27267278,  0.10662754, 67.71703976,  0.85926307,\n",
       "       -0.86650087, -0.14035801, -0.15992562, -0.56072482, -0.06756917,\n",
       "       -0.07809749,  0.23149622, -0.42106741,  0.11326761,  0.06147275,\n",
       "        0.1688622 , -0.11370978, -0.36661388, -0.05071527, -0.12732703,\n",
       "       -0.27272031, -0.12032389,  0.25111015,  0.34281333, -0.15729624,\n",
       "        0.43456757,  0.02379089,  0.10654652,  0.26992667,  0.55496187,\n",
       "        0.39468138,  0.08270312, -0.22166395,  0.18035021, -0.02775577,\n",
       "        0.4605844 ,  0.24542435, -0.01780781,  0.11571081, 58.48650632,\n",
       "        0.93971901, -0.68498512,  0.32803475,  0.23005403,  0.24122494,\n",
       "       -0.20239097,  0.31876535, -0.34282778, -0.85539463,  0.32831022,\n",
       "        0.29676465,  1.6710905 , -0.05518184, -0.26981633])"
      ]
     },
     "execution_count": 28,
     "metadata": {},
     "output_type": "execute_result"
    }
   ],
   "source": [
    "lrprediction"
   ]
  },
  {
   "cell_type": "code",
   "execution_count": 29,
   "id": "8609bd16-fb53-4777-a223-6cfe8ba07c94",
   "metadata": {},
   "outputs": [
    {
     "data": {
      "text/plain": [
       "array([-1.,  1., -0., -0., -0., -0., -0., 75., -0., -0.,  1.,  0.,  0.,\n",
       "        0.,  0.,  0.,  0., -0., -0.,  0.,  0., -0., -0., -0., -0.,  0.,\n",
       "        0., -0., -0.,  0.,  0.,  0., -0., -0.,  0., -1.,  0., -0., -0.,\n",
       "        0.,  1., -0., -0.,  0.,  1.,  0.,  0., -0.,  0.,  0.,  1.,  1.,\n",
       "        0., 58., -0., -0., -0.,  0., -0.,  0.,  0., -0., -0.,  0.,  0.,\n",
       "        0.,  0., -1.,  0., -0., -0.,  0., -0.,  0.,  0.,  0.,  0.,  1.,\n",
       "        0., -0.,  0.,  0.,  0.,  0., -0., -0., -0.,  1., -0.,  0., -0.,\n",
       "       -0.,  0.,  0., -1., -0.,  0., -0., -1., -1.,  0., -0.,  2., -0.,\n",
       "        0.,  0.,  1.,  0.,  1., -0.,  0., -0., -0., 71.,  0., -0.,  1.,\n",
       "        0., -0., -0., -0.,  0.,  0., -0.,  0., -0., -0.,  1., -1.,  1.,\n",
       "        1., 79.,  0., -0.,  0.,  0.,  0.,  0., -1.,  0.,  0.,  0.,  0.,\n",
       "        0.,  0., -0.,  0.,  0., -0.,  0.,  0.,  1.,  0., -1., -0., -1.,\n",
       "        0.,  0., -0.,  0.,  1.,  0.,  1.,  0., -0.,  0.,  0.,  0.,  1.,\n",
       "        0.,  0., -0., -0., -1.,  1.,  0.,  0.,  0., 68.,  1., -1., -0.,\n",
       "       -0., -1., -0., -0.,  0., -0.,  0.,  0.,  0., -0., -0., -0., -0.,\n",
       "       -0., -0.,  0.,  0., -0.,  0.,  0.,  0.,  0.,  1.,  0.,  0., -0.,\n",
       "        0., -0.,  0.,  0., -0.,  0., 58.,  1., -1.,  0.,  0.,  0., -0.,\n",
       "        0., -0., -1.,  0.,  0.,  2., -0., -0.])"
      ]
     },
     "execution_count": 29,
     "metadata": {},
     "output_type": "execute_result"
    }
   ],
   "source": [
    "lrprediction.round()"
   ]
  },
  {
   "cell_type": "markdown",
   "id": "5b1ebda0-59a3-4451-9715-87f87860d256",
   "metadata": {},
   "source": [
    "##### MODEL EVALUATION"
   ]
  },
  {
   "cell_type": "code",
   "execution_count": 32,
   "id": "1b221f59-6cd6-4b91-8c69-86489bf15fbf",
   "metadata": {},
   "outputs": [
    {
     "data": {
      "text/plain": [
       "2.7161572052401746"
      ]
     },
     "execution_count": 32,
     "metadata": {},
     "output_type": "execute_result"
    }
   ],
   "source": [
    "mse = mean_squared_error(y_test,lrprediction.round())\n",
    "mse"
   ]
  },
  {
   "cell_type": "code",
   "execution_count": 33,
   "id": "ebbbbd20-ebce-46b4-9da9-e63bba6beb09",
   "metadata": {},
   "outputs": [
    {
     "data": {
      "text/plain": [
       "1.648076820187753"
      ]
     },
     "execution_count": 33,
     "metadata": {},
     "output_type": "execute_result"
    }
   ],
   "source": [
    "rmse = np.sqrt(mse)\n",
    "rmse"
   ]
  },
  {
   "cell_type": "code",
   "execution_count": 34,
   "id": "e869dd5f-6a1b-4698-8762-e6eaabb976a7",
   "metadata": {},
   "outputs": [
    {
     "data": {
      "text/plain": [
       "0.9822447693383154"
      ]
     },
     "execution_count": 34,
     "metadata": {},
     "output_type": "execute_result"
    }
   ],
   "source": [
    "r2score = r2_score(y_test,lrprediction.round())\n",
    "r2score"
   ]
  },
  {
   "cell_type": "code",
   "execution_count": 35,
   "id": "9487af25-703c-40d1-8eaf-419dc40c16c5",
   "metadata": {},
   "outputs": [
    {
     "data": {
      "image/png": "[encoded data removed]",
      "text/plain": [
       "<Figure size 720x288 with 1 Axes>"
      ]
     },
     "metadata": {},
     "output_type": "display_data"
    }
   ],
   "source": [
    "fig, ax = plt.subplots(figsize=(10,4))\n",
    "sns.regplot(x=y_test, y=lrprediction.round(), ax=ax)\n",
    "plt.title(\"Plot to compare actual vs predicted - Linear Regression\")\n",
    "plt.ylabel(\"Predicted\")\n",
    "plt.xlabel(\"Actual\")\n",
    "plt.show()"
   ]
  },
  {
   "cell_type": "markdown",
   "id": "965cf6ad-31a4-4928-9700-2a4186c965d0",
   "metadata": {},
   "source": [
    "#### EXTRA TREES REGRESSOR"
   ]
  },
  {
   "cell_type": "code",
   "execution_count": 36,
   "id": "98801f24-f759-4479-8caa-ced6beaab5ac",
   "metadata": {},
   "outputs": [],
   "source": [
    "et = ExtraTreesRegressor()"
   ]
  },
  {
   "cell_type": "code",
   "execution_count": 37,
   "id": "11efcb1d-92a8-40e7-9edc-35504b680af1",
   "metadata": {},
   "outputs": [],
   "source": [
    "model2 = et.fit(X_train,y_train)"
   ]
  },
  {
   "cell_type": "code",
   "execution_count": 38,
   "id": "45f87c71-b28f-42d6-8193-d9b64903e5a7",
   "metadata": {},
   "outputs": [
    {
     "data": {
      "text/html": [
       "<style>#sk-container-id-2 {color: black;background-color: white;}#sk-container-id-2 pre{padding: 0;}#sk-container-id-2 div.sk-toggleable {background-color: white;}#sk-container-id-2 label.sk-toggleable__label {cursor: pointer;display: block;width: 100%;margin-bottom: 0;padding: 0.3em;box-sizing: border-box;text-align: center;}#sk-container-id-2 label.sk-toggleable__label-arrow:before {content: \"▸\";float: left;margin-right: 0.25em;color: #696969;}#sk-container-id-2 label.sk-toggleable__label-arrow:hover:before {color: black;}#sk-container-id-2 div.sk-estimator:hover label.sk-toggleable__label-arrow:before {color: black;}#sk-container-id-2 div.sk-toggleable__content {max-height: 0;max-width: 0;overflow: hidden;text-align: left;background-color: #f0f8ff;}#sk-container-id-2 div.sk-toggleable__content pre {margin: 0.2em;color: black;border-radius: 0.25em;background-color: #f0f8ff;}#sk-container-id-2 input.sk-toggleable__control:checked~div.sk-toggleable__content {max-height: 200px;max-width: 100%;overflow: auto;}#sk-container-id-2 input.sk-toggleable__control:checked~label.sk-toggleable__label-arrow:before {content: \"▾\";}#sk-container-id-2 div.sk-estimator input.sk-toggleable__control:checked~label.sk-toggleable__label {background-color: #d4ebff;}#sk-container-id-2 div.sk-label input.sk-toggleable__control:checked~label.sk-toggleable__label {background-color: #d4ebff;}#sk-container-id-2 input.sk-hidden--visually {border: 0;clip: rect(1px 1px 1px 1px);clip: rect(1px, 1px, 1px, 1px);height: 1px;margin: -1px;overflow: hidden;padding: 0;position: absolute;width: 1px;}#sk-container-id-2 div.sk-estimator {font-family: monospace;background-color: #f0f8ff;border: 1px dotted black;border-radius: 0.25em;box-sizing: border-box;margin-bottom: 0.5em;}#sk-container-id-2 div.sk-estimator:hover {background-color: #d4ebff;}#sk-container-id-2 div.sk-parallel-item::after {content: \"\";width: 100%;border-bottom: 1px solid gray;flex-grow: 1;}#sk-container-id-2 div.sk-label:hover label.sk-toggleable__label {background-color: #d4ebff;}#sk-container-id-2 div.sk-serial::before {content: \"\";position: absolute;border-left: 1px solid gray;box-sizing: border-box;top: 0;bottom: 0;left: 50%;z-index: 0;}#sk-container-id-2 div.sk-serial {display: flex;flex-direction: column;align-items: center;background-color: white;padding-right: 0.2em;padding-left: 0.2em;position: relative;}#sk-container-id-2 div.sk-item {position: relative;z-index: 1;}#sk-container-id-2 div.sk-parallel {display: flex;align-items: stretch;justify-content: center;background-color: white;position: relative;}#sk-container-id-2 div.sk-item::before, #sk-container-id-2 div.sk-parallel-item::before {content: \"\";position: absolute;border-left: 1px solid gray;box-sizing: border-box;top: 0;bottom: 0;left: 50%;z-index: -1;}#sk-container-id-2 div.sk-parallel-item {display: flex;flex-direction: column;z-index: 1;position: relative;background-color: white;}#sk-container-id-2 div.sk-parallel-item:first-child::after {align-self: flex-end;width: 50%;}#sk-container-id-2 div.sk-parallel-item:last-child::after {align-self: flex-start;width: 50%;}#sk-container-id-2 div.sk-parallel-item:only-child::after {width: 0;}#sk-container-id-2 div.sk-dashed-wrapped {border: 1px dashed gray;margin: 0 0.4em 0.5em 0.4em;box-sizing: border-box;padding-bottom: 0.4em;background-color: white;}#sk-container-id-2 div.sk-label label {font-family: monospace;font-weight: bold;display: inline-block;line-height: 1.2em;}#sk-container-id-2 div.sk-label-container {text-align: center;}#sk-container-id-2 div.sk-container {/* jupyter's `normalize.less` sets `[hidden] { display: none; }` but bootstrap.min.css set `[hidden] { display: none !important; }` so we also need the `!important` here to be able to override the default hidden behavior on the sphinx rendered scikit-learn.org. See: https://github.com/scikit-learn/scikit-learn/issues/21755 */display: inline-block !important;position: relative;}#sk-container-id-2 div.sk-text-repr-fallback {display: none;}</style><div id=\"sk-container-id-2\" class=\"sk-top-container\"><div class=\"sk-text-repr-fallback\"><pre>ExtraTreesRegressor()</pre><b>In a Jupyter environment, please rerun this cell to show the HTML representation or trust the notebook. <br />On GitHub, the HTML representation is unable to render, please try loading this page with nbviewer.org.</b></div><div class=\"sk-container\" hidden><div class=\"sk-item\"><div class=\"sk-estimator sk-toggleable\"><input class=\"sk-toggleable__control sk-hidden--visually\" id=\"sk-estimator-id-2\" type=\"checkbox\" checked><label for=\"sk-estimator-id-2\" class=\"sk-toggleable__label sk-toggleable__label-arrow\">ExtraTreesRegressor</label><div class=\"sk-toggleable__content\"><pre>ExtraTreesRegressor()</pre></div></div></div></div></div>"
      ],
      "text/plain": [
       "ExtraTreesRegressor()"
      ]
     },
     "execution_count": 38,
     "metadata": {},
     "output_type": "execute_result"
    }
   ],
   "source": [
    "model2"
   ]
  },
  {
   "cell_type": "code",
   "execution_count": 39,
   "id": "8b22c3b6-f716-46f7-9318-b3ad7aba093a",
   "metadata": {},
   "outputs": [],
   "source": [
    "etprediction = model2.predict(X_test)"
   ]
  },
  {
   "cell_type": "code",
   "execution_count": 40,
   "id": "4b357151-f032-4fe7-a388-75346239a543",
   "metadata": {},
   "outputs": [
    {
     "data": {
      "text/plain": [
       "array([ 0.  ,  0.  ,  0.  ,  0.  ,  0.  ,  0.  ,  0.  , 76.88,  0.  ,\n",
       "        0.  ,  0.  ,  0.  ,  0.  ,  0.  ,  0.  ,  0.  ,  0.  ,  0.  ,\n",
       "        0.  ,  0.  ,  0.  ,  0.  ,  0.  ,  0.  ,  0.  ,  0.  ,  0.  ,\n",
       "        0.  ,  0.  ,  0.  ,  0.  ,  0.  ,  0.  ,  0.  ,  0.  ,  0.  ,\n",
       "        0.  ,  0.  ,  0.  ,  0.  ,  0.  ,  0.  ,  0.  ,  0.  ,  0.  ,\n",
       "        0.  ,  0.  ,  0.  ,  0.  ,  0.  ,  0.  ,  0.  ,  0.  , 70.35,\n",
       "        0.  ,  0.  ,  0.  ,  0.  ,  0.  ,  0.  ,  0.  ,  0.  ,  0.  ,\n",
       "        0.  ,  0.  ,  0.  ,  0.  ,  0.  ,  0.  ,  0.  ,  0.  ,  0.  ,\n",
       "        0.  ,  0.  ,  0.  ,  0.  ,  0.  ,  0.  ,  0.  ,  0.  ,  0.  ,\n",
       "        0.  ,  0.  ,  0.  ,  0.  ,  0.  ,  0.  ,  0.  ,  0.  ,  0.  ,\n",
       "        0.  ,  0.  ,  0.  ,  0.  ,  0.  ,  0.  ,  0.  ,  0.  ,  0.  ,\n",
       "        0.  ,  0.  ,  0.  ,  0.  ,  0.  ,  0.  ,  0.  ,  0.  ,  0.  ,\n",
       "        0.  ,  0.  ,  0.  ,  0.  ,  0.  , 74.37,  0.  ,  0.  ,  0.  ,\n",
       "        0.  ,  0.  ,  0.  ,  0.  ,  0.  ,  0.  ,  0.  ,  0.  ,  0.  ,\n",
       "        0.  ,  0.  ,  0.  ,  0.  ,  0.  , 83.71,  0.  ,  0.  ,  0.  ,\n",
       "        0.  ,  0.  ,  0.  ,  0.  ,  0.  ,  0.  ,  0.  ,  0.  ,  0.  ,\n",
       "        0.  ,  0.  ,  0.  ,  0.  ,  0.  ,  0.  ,  0.  ,  0.  ,  0.  ,\n",
       "        0.  ,  0.  ,  0.  ,  0.  ,  0.  ,  0.  ,  0.  ,  0.  ,  0.  ,\n",
       "        0.  ,  0.  ,  0.  ,  0.  ,  0.  ,  0.  ,  0.  ,  0.  ,  0.  ,\n",
       "        0.  ,  0.  ,  0.  ,  0.  ,  0.  ,  0.  ,  0.  , 74.2 ,  0.  ,\n",
       "        0.  ,  0.  ,  0.  ,  0.  ,  0.  ,  0.  ,  0.  ,  0.  ,  0.  ,\n",
       "        0.  ,  0.  ,  0.  ,  0.  ,  0.  ,  0.  ,  0.  ,  0.  ,  0.  ,\n",
       "        0.  ,  0.  ,  0.  ,  0.  ,  0.  ,  0.  ,  0.  ,  0.  ,  0.  ,\n",
       "        0.  ,  0.  ,  0.  ,  0.  ,  0.  ,  0.  ,  0.  , 69.14,  0.  ,\n",
       "        0.  ,  0.  ,  0.  ,  0.  ,  0.  ,  0.  ,  0.  ,  0.  ,  0.  ,\n",
       "        0.  ,  0.  ,  0.  ,  0.  ])"
      ]
     },
     "execution_count": 40,
     "metadata": {},
     "output_type": "execute_result"
    }
   ],
   "source": [
    "etprediction"
   ]
  },
  {
   "cell_type": "code",
   "execution_count": 41,
   "id": "5c969459-061c-4fc3-aaab-df3e95cd4652",
   "metadata": {},
   "outputs": [
    {
     "data": {
      "text/plain": [
       "array([ 0.,  0.,  0.,  0.,  0.,  0.,  0., 77.,  0.,  0.,  0.,  0.,  0.,\n",
       "        0.,  0.,  0.,  0.,  0.,  0.,  0.,  0.,  0.,  0.,  0.,  0.,  0.,\n",
       "        0.,  0.,  0.,  0.,  0.,  0.,  0.,  0.,  0.,  0.,  0.,  0.,  0.,\n",
       "        0.,  0.,  0.,  0.,  0.,  0.,  0.,  0.,  0.,  0.,  0.,  0.,  0.,\n",
       "        0., 70.,  0.,  0.,  0.,  0.,  0.,  0.,  0.,  0.,  0.,  0.,  0.,\n",
       "        0.,  0.,  0.,  0.,  0.,  0.,  0.,  0.,  0.,  0.,  0.,  0.,  0.,\n",
       "        0.,  0.,  0.,  0.,  0.,  0.,  0.,  0.,  0.,  0.,  0.,  0.,  0.,\n",
       "        0.,  0.,  0.,  0.,  0.,  0.,  0.,  0.,  0.,  0.,  0.,  0.,  0.,\n",
       "        0.,  0.,  0.,  0.,  0.,  0.,  0.,  0.,  0., 74.,  0.,  0.,  0.,\n",
       "        0.,  0.,  0.,  0.,  0.,  0.,  0.,  0.,  0.,  0.,  0.,  0.,  0.,\n",
       "        0., 84.,  0.,  0.,  0.,  0.,  0.,  0.,  0.,  0.,  0.,  0.,  0.,\n",
       "        0.,  0.,  0.,  0.,  0.,  0.,  0.,  0.,  0.,  0.,  0.,  0.,  0.,\n",
       "        0.,  0.,  0.,  0.,  0.,  0.,  0.,  0.,  0.,  0.,  0.,  0.,  0.,\n",
       "        0.,  0.,  0.,  0.,  0.,  0.,  0.,  0.,  0., 74.,  0.,  0.,  0.,\n",
       "        0.,  0.,  0.,  0.,  0.,  0.,  0.,  0.,  0.,  0.,  0.,  0.,  0.,\n",
       "        0.,  0.,  0.,  0.,  0.,  0.,  0.,  0.,  0.,  0.,  0.,  0.,  0.,\n",
       "        0.,  0.,  0.,  0.,  0.,  0., 69.,  0.,  0.,  0.,  0.,  0.,  0.,\n",
       "        0.,  0.,  0.,  0.,  0.,  0.,  0.,  0.])"
      ]
     },
     "execution_count": 41,
     "metadata": {},
     "output_type": "execute_result"
    }
   ],
   "source": [
    "etprediction.round()"
   ]
  },
  {
   "cell_type": "markdown",
   "id": "2d1e9e53-6cbe-443a-afc2-8000fc678312",
   "metadata": {},
   "source": [
    "##### MODEL EVALUATION"
   ]
  },
  {
   "cell_type": "code",
   "execution_count": 42,
   "id": "085135af-f167-4f7f-b903-23f40a60d446",
   "metadata": {},
   "outputs": [
    {
     "data": {
      "text/plain": [
       "0.611353711790393"
      ]
     },
     "execution_count": 42,
     "metadata": {},
     "output_type": "execute_result"
    }
   ],
   "source": [
    "mse = mean_squared_error(y_test,etprediction.round())\n",
    "mse"
   ]
  },
  {
   "cell_type": "code",
   "execution_count": 43,
   "id": "b6b61e22-7706-4257-b214-7a8326b93607",
   "metadata": {},
   "outputs": [
    {
     "data": {
      "text/plain": [
       "0.7818911124897079"
      ]
     },
     "execution_count": 43,
     "metadata": {},
     "output_type": "execute_result"
    }
   ],
   "source": [
    "rmse = np.sqrt(mse)\n",
    "rmse"
   ]
  },
  {
   "cell_type": "code",
   "execution_count": 44,
   "id": "e76eb226-29cb-4780-9602-12456db918d4",
   "metadata": {},
   "outputs": [
    {
     "data": {
      "text/plain": [
       "0.9960036458317751"
      ]
     },
     "execution_count": 44,
     "metadata": {},
     "output_type": "execute_result"
    }
   ],
   "source": [
    "r2score = r2_score(y_test,etprediction.round())\n",
    "r2score"
   ]
  },
  {
   "cell_type": "code",
   "execution_count": 45,
   "id": "6e0e6bf2-81e5-42fa-a8d1-dfb5d69ee45e",
   "metadata": {},
   "outputs": [
    {
     "data": {
      "image/png": "[encoded data removed]",
      "text/plain": [
       "<Figure size 720x288 with 1 Axes>"
      ]
     },
     "metadata": {},
     "output_type": "display_data"
    }
   ],
   "source": [
    "fig, ax = plt.subplots(figsize=(10,4))\n",
    "sns.regplot(x=y_test, y=etprediction.round(), ax=ax)\n",
    "plt.title(\"Plot to compare actual vs predicted - Extra Trees Regressor\")\n",
    "plt.ylabel(\"Predicted\")\n",
    "plt.xlabel(\"Actual\")\n",
    "plt.show()"
   ]
  },
  {
   "cell_type": "markdown",
   "id": "53375de3-3cb2-44ff-95bf-97613a5a0a58",
   "metadata": {},
   "source": [
    "#### XGBOOST (SCIKIT-LEARN) RANDOMSEARCHCV"
   ]
  },
  {
   "cell_type": "code",
   "execution_count": 46,
   "id": "9998b510-9367-4f46-9e40-d5cb3b71850b",
   "metadata": {},
   "outputs": [],
   "source": [
    "model3 = XGBRegressor(random_state=0, n_estimators=100, objective='reg:squarederror')"
   ]
  },
  {
   "cell_type": "code",
   "execution_count": 47,
   "id": "598ceae2-cbda-42d3-85cb-d773687d7e7b",
   "metadata": {},
   "outputs": [],
   "source": [
    "parameters = {'max_depth': np.arange(3,10,1),\n",
    "              'eta': np.arange(0.05,0.3,0.05),\n",
    "              'n_estimators':np.arange(100,1000,100),\n",
    "              'min_child_weight': np.arange(1,4,1),\n",
    "              'gamma':np.arange(0,10,2),\n",
    "              'subsample':np.arange(0.5,0.9,0.1),\n",
    "              'colsample_bytree':np.arange(0.5,0.9,0.1),\n",
    "              'reg_alpha':np.arange(0,1,0.1),\n",
    "              'reg_lambda':np.arange(0,1,0.1)\n",
    "             }"
   ]
  },
  {
   "cell_type": "code",
   "execution_count": 48,
   "id": "492de557-432b-48aa-b7ce-adf1fa56b06c",
   "metadata": {},
   "outputs": [],
   "source": [
    "randm = RandomizedSearchCV(estimator=model3, param_distributions = parameters, cv = 5, n_iter = 20, \n",
    "                           n_jobs=-1, scoring='neg_root_mean_squared_error')"
   ]
  },
  {
   "cell_type": "code",
   "execution_count": 49,
   "id": "5d814b9e-9ac0-488e-9b8e-499ba3f68581",
   "metadata": {},
   "outputs": [
    {
     "data": {
      "text/html": [
       "<style>#sk-container-id-3 {color: black;background-color: white;}#sk-container-id-3 pre{padding: 0;}#sk-container-id-3 div.sk-toggleable {background-color: white;}#sk-container-id-3 label.sk-toggleable__label {cursor: pointer;display: block;width: 100%;margin-bottom: 0;padding: 0.3em;box-sizing: border-box;text-align: center;}#sk-container-id-3 label.sk-toggleable__label-arrow:before {content: \"▸\";float: left;margin-right: 0.25em;color: #696969;}#sk-container-id-3 label.sk-toggleable__label-arrow:hover:before {color: black;}#sk-container-id-3 div.sk-estimator:hover label.sk-toggleable__label-arrow:before {color: black;}#sk-container-id-3 div.sk-toggleable__content {max-height: 0;max-width: 0;overflow: hidden;text-align: left;background-color: #f0f8ff;}#sk-container-id-3 div.sk-toggleable__content pre {margin: 0.2em;color: black;border-radius: 0.25em;background-color: #f0f8ff;}#sk-container-id-3 input.sk-toggleable__control:checked~div.sk-toggleable__content {max-height: 200px;max-width: 100%;overflow: auto;}#sk-container-id-3 input.sk-toggleable__control:checked~label.sk-toggleable__label-arrow:before {content: \"▾\";}#sk-container-id-3 div.sk-estimator input.sk-toggleable__control:checked~label.sk-toggleable__label {background-color: #d4ebff;}#sk-container-id-3 div.sk-label input.sk-toggleable__control:checked~label.sk-toggleable__label {background-color: #d4ebff;}#sk-container-id-3 input.sk-hidden--visually {border: 0;clip: rect(1px 1px 1px 1px);clip: rect(1px, 1px, 1px, 1px);height: 1px;margin: -1px;overflow: hidden;padding: 0;position: absolute;width: 1px;}#sk-container-id-3 div.sk-estimator {font-family: monospace;background-color: #f0f8ff;border: 1px dotted black;border-radius: 0.25em;box-sizing: border-box;margin-bottom: 0.5em;}#sk-container-id-3 div.sk-estimator:hover {background-color: #d4ebff;}#sk-container-id-3 div.sk-parallel-item::after {content: \"\";width: 100%;border-bottom: 1px solid gray;flex-grow: 1;}#sk-container-id-3 div.sk-label:hover label.sk-toggleable__label {background-color: #d4ebff;}#sk-container-id-3 div.sk-serial::before {content: \"\";position: absolute;border-left: 1px solid gray;box-sizing: border-box;top: 0;bottom: 0;left: 50%;z-index: 0;}#sk-container-id-3 div.sk-serial {display: flex;flex-direction: column;align-items: center;background-color: white;padding-right: 0.2em;padding-left: 0.2em;position: relative;}#sk-container-id-3 div.sk-item {position: relative;z-index: 1;}#sk-container-id-3 div.sk-parallel {display: flex;align-items: stretch;justify-content: center;background-color: white;position: relative;}#sk-container-id-3 div.sk-item::before, #sk-container-id-3 div.sk-parallel-item::before {content: \"\";position: absolute;border-left: 1px solid gray;box-sizing: border-box;top: 0;bottom: 0;left: 50%;z-index: -1;}#sk-container-id-3 div.sk-parallel-item {display: flex;flex-direction: column;z-index: 1;position: relative;background-color: white;}#sk-container-id-3 div.sk-parallel-item:first-child::after {align-self: flex-end;width: 50%;}#sk-container-id-3 div.sk-parallel-item:last-child::after {align-self: flex-start;width: 50%;}#sk-container-id-3 div.sk-parallel-item:only-child::after {width: 0;}#sk-container-id-3 div.sk-dashed-wrapped {border: 1px dashed gray;margin: 0 0.4em 0.5em 0.4em;box-sizing: border-box;padding-bottom: 0.4em;background-color: white;}#sk-container-id-3 div.sk-label label {font-family: monospace;font-weight: bold;display: inline-block;line-height: 1.2em;}#sk-container-id-3 div.sk-label-container {text-align: center;}#sk-container-id-3 div.sk-container {/* jupyter's `normalize.less` sets `[hidden] { display: none; }` but bootstrap.min.css set `[hidden] { display: none !important; }` so we also need the `!important` here to be able to override the default hidden behavior on the sphinx rendered scikit-learn.org. See: https://github.com/scikit-learn/scikit-learn/issues/21755 */display: inline-block !important;position: relative;}#sk-container-id-3 div.sk-text-repr-fallback {display: none;}</style><div id=\"sk-container-id-3\" class=\"sk-top-container\"><div class=\"sk-text-repr-fallback\"><pre>RandomizedSearchCV(cv=5,\n",
       "                   estimator=XGBRegressor(base_score=None, booster=None,\n",
       "                                          callbacks=None,\n",
       "                                          colsample_bylevel=None,\n",
       "                                          colsample_bynode=None,\n",
       "                                          colsample_bytree=None,\n",
       "                                          early_stopping_rounds=None,\n",
       "                                          enable_categorical=False,\n",
       "                                          eval_metric=None, gamma=None,\n",
       "                                          gpu_id=None, grow_policy=None,\n",
       "                                          importance_type=None,\n",
       "                                          interaction_constraints=None,\n",
       "                                          learning_rate=None, max_bin=None,\n",
       "                                          m...\n",
       "                                        &#x27;gamma&#x27;: array([0, 2, 4, 6, 8]),\n",
       "                                        &#x27;max_depth&#x27;: array([3, 4, 5, 6, 7, 8, 9]),\n",
       "                                        &#x27;min_child_weight&#x27;: array([1, 2, 3]),\n",
       "                                        &#x27;n_estimators&#x27;: array([100, 200, 300, 400, 500, 600, 700, 800, 900]),\n",
       "                                        &#x27;reg_alpha&#x27;: array([0. , 0.1, 0.2, 0.3, 0.4, 0.5, 0.6, 0.7, 0.8, 0.9]),\n",
       "                                        &#x27;reg_lambda&#x27;: array([0. , 0.1, 0.2, 0.3, 0.4, 0.5, 0.6, 0.7, 0.8, 0.9]),\n",
       "                                        &#x27;subsample&#x27;: array([0.5, 0.6, 0.7, 0.8])},\n",
       "                   scoring=&#x27;neg_root_mean_squared_error&#x27;)</pre><b>In a Jupyter environment, please rerun this cell to show the HTML representation or trust the notebook. <br />On GitHub, the HTML representation is unable to render, please try loading this page with nbviewer.org.</b></div><div class=\"sk-container\" hidden><div class=\"sk-item sk-dashed-wrapped\"><div class=\"sk-label-container\"><div class=\"sk-label sk-toggleable\"><input class=\"sk-toggleable__control sk-hidden--visually\" id=\"sk-estimator-id-3\" type=\"checkbox\" ><label for=\"sk-estimator-id-3\" class=\"sk-toggleable__label sk-toggleable__label-arrow\">RandomizedSearchCV</label><div class=\"sk-toggleable__content\"><pre>RandomizedSearchCV(cv=5,\n",
       "                   estimator=XGBRegressor(base_score=None, booster=None,\n",
       "                                          callbacks=None,\n",
       "                                          colsample_bylevel=None,\n",
       "                                          colsample_bynode=None,\n",
       "                                          colsample_bytree=None,\n",
       "                                          early_stopping_rounds=None,\n",
       "                                          enable_categorical=False,\n",
       "                                          eval_metric=None, gamma=None,\n",
       "                                          gpu_id=None, grow_policy=None,\n",
       "                                          importance_type=None,\n",
       "                                          interaction_constraints=None,\n",
       "                                          learning_rate=None, max_bin=None,\n",
       "                                          m...\n",
       "                                        &#x27;gamma&#x27;: array([0, 2, 4, 6, 8]),\n",
       "                                        &#x27;max_depth&#x27;: array([3, 4, 5, 6, 7, 8, 9]),\n",
       "                                        &#x27;min_child_weight&#x27;: array([1, 2, 3]),\n",
       "                                        &#x27;n_estimators&#x27;: array([100, 200, 300, 400, 500, 600, 700, 800, 900]),\n",
       "                                        &#x27;reg_alpha&#x27;: array([0. , 0.1, 0.2, 0.3, 0.4, 0.5, 0.6, 0.7, 0.8, 0.9]),\n",
       "                                        &#x27;reg_lambda&#x27;: array([0. , 0.1, 0.2, 0.3, 0.4, 0.5, 0.6, 0.7, 0.8, 0.9]),\n",
       "                                        &#x27;subsample&#x27;: array([0.5, 0.6, 0.7, 0.8])},\n",
       "                   scoring=&#x27;neg_root_mean_squared_error&#x27;)</pre></div></div></div><div class=\"sk-parallel\"><div class=\"sk-parallel-item\"><div class=\"sk-item\"><div class=\"sk-label-container\"><div class=\"sk-label sk-toggleable\"><input class=\"sk-toggleable__control sk-hidden--visually\" id=\"sk-estimator-id-4\" type=\"checkbox\" ><label for=\"sk-estimator-id-4\" class=\"sk-toggleable__label sk-toggleable__label-arrow\">estimator: XGBRegressor</label><div class=\"sk-toggleable__content\"><pre>XGBRegressor(base_score=None, booster=None, callbacks=None,\n",
       "             colsample_bylevel=None, colsample_bynode=None,\n",
       "             colsample_bytree=None, early_stopping_rounds=None,\n",
       "             enable_categorical=False, eval_metric=None, gamma=None,\n",
       "             gpu_id=None, grow_policy=None, importance_type=None,\n",
       "             interaction_constraints=None, learning_rate=None, max_bin=None,\n",
       "             max_cat_to_onehot=None, max_delta_step=None, max_depth=None,\n",
       "             max_leaves=None, min_child_weight=None, missing=nan,\n",
       "             monotone_constraints=None, n_estimators=100, n_jobs=None,\n",
       "             num_parallel_tree=None, predictor=None, random_state=0,\n",
       "             reg_alpha=None, reg_lambda=None, ...)</pre></div></div></div><div class=\"sk-serial\"><div class=\"sk-item\"><div class=\"sk-estimator sk-toggleable\"><input class=\"sk-toggleable__control sk-hidden--visually\" id=\"sk-estimator-id-5\" type=\"checkbox\" ><label for=\"sk-estimator-id-5\" class=\"sk-toggleable__label sk-toggleable__label-arrow\">XGBRegressor</label><div class=\"sk-toggleable__content\"><pre>XGBRegressor(base_score=None, booster=None, callbacks=None,\n",
       "             colsample_bylevel=None, colsample_bynode=None,\n",
       "             colsample_bytree=None, early_stopping_rounds=None,\n",
       "             enable_categorical=False, eval_metric=None, gamma=None,\n",
       "             gpu_id=None, grow_policy=None, importance_type=None,\n",
       "             interaction_constraints=None, learning_rate=None, max_bin=None,\n",
       "             max_cat_to_onehot=None, max_delta_step=None, max_depth=None,\n",
       "             max_leaves=None, min_child_weight=None, missing=nan,\n",
       "             monotone_constraints=None, n_estimators=100, n_jobs=None,\n",
       "             num_parallel_tree=None, predictor=None, random_state=0,\n",
       "             reg_alpha=None, reg_lambda=None, ...)</pre></div></div></div></div></div></div></div></div></div></div>"
      ],
      "text/plain": [
       "RandomizedSearchCV(cv=5,\n",
       "                   estimator=XGBRegressor(base_score=None, booster=None,\n",
       "                                          callbacks=None,\n",
       "                                          colsample_bylevel=None,\n",
       "                                          colsample_bynode=None,\n",
       "                                          colsample_bytree=None,\n",
       "                                          early_stopping_rounds=None,\n",
       "                                          enable_categorical=False,\n",
       "                                          eval_metric=None, gamma=None,\n",
       "                                          gpu_id=None, grow_policy=None,\n",
       "                                          importance_type=None,\n",
       "                                          interaction_constraints=None,\n",
       "                                          learning_rate=None, max_bin=None,\n",
       "                                          m...\n",
       "                                        'gamma': array([0, 2, 4, 6, 8]),\n",
       "                                        'max_depth': array([3, 4, 5, 6, 7, 8, 9]),\n",
       "                                        'min_child_weight': array([1, 2, 3]),\n",
       "                                        'n_estimators': array([100, 200, 300, 400, 500, 600, 700, 800, 900]),\n",
       "                                        'reg_alpha': array([0. , 0.1, 0.2, 0.3, 0.4, 0.5, 0.6, 0.7, 0.8, 0.9]),\n",
       "                                        'reg_lambda': array([0. , 0.1, 0.2, 0.3, 0.4, 0.5, 0.6, 0.7, 0.8, 0.9]),\n",
       "                                        'subsample': array([0.5, 0.6, 0.7, 0.8])},\n",
       "                   scoring='neg_root_mean_squared_error')"
      ]
     },
     "execution_count": 49,
     "metadata": {},
     "output_type": "execute_result"
    }
   ],
   "source": [
    "randm.fit(X_train, y_train)"
   ]
  },
  {
   "cell_type": "code",
   "execution_count": 50,
   "id": "d6f88626-b7a1-40e5-b1f7-016bc587ee8c",
   "metadata": {},
   "outputs": [
    {
     "data": {
      "text/html": [
       "<style>#sk-container-id-4 {color: black;background-color: white;}#sk-container-id-4 pre{padding: 0;}#sk-container-id-4 div.sk-toggleable {background-color: white;}#sk-container-id-4 label.sk-toggleable__label {cursor: pointer;display: block;width: 100%;margin-bottom: 0;padding: 0.3em;box-sizing: border-box;text-align: center;}#sk-container-id-4 label.sk-toggleable__label-arrow:before {content: \"▸\";float: left;margin-right: 0.25em;color: #696969;}#sk-container-id-4 label.sk-toggleable__label-arrow:hover:before {color: black;}#sk-container-id-4 div.sk-estimator:hover label.sk-toggleable__label-arrow:before {color: black;}#sk-container-id-4 div.sk-toggleable__content {max-height: 0;max-width: 0;overflow: hidden;text-align: left;background-color: #f0f8ff;}#sk-container-id-4 div.sk-toggleable__content pre {margin: 0.2em;color: black;border-radius: 0.25em;background-color: #f0f8ff;}#sk-container-id-4 input.sk-toggleable__control:checked~div.sk-toggleable__content {max-height: 200px;max-width: 100%;overflow: auto;}#sk-container-id-4 input.sk-toggleable__control:checked~label.sk-toggleable__label-arrow:before {content: \"▾\";}#sk-container-id-4 div.sk-estimator input.sk-toggleable__control:checked~label.sk-toggleable__label {background-color: #d4ebff;}#sk-container-id-4 div.sk-label input.sk-toggleable__control:checked~label.sk-toggleable__label {background-color: #d4ebff;}#sk-container-id-4 input.sk-hidden--visually {border: 0;clip: rect(1px 1px 1px 1px);clip: rect(1px, 1px, 1px, 1px);height: 1px;margin: -1px;overflow: hidden;padding: 0;position: absolute;width: 1px;}#sk-container-id-4 div.sk-estimator {font-family: monospace;background-color: #f0f8ff;border: 1px dotted black;border-radius: 0.25em;box-sizing: border-box;margin-bottom: 0.5em;}#sk-container-id-4 div.sk-estimator:hover {background-color: #d4ebff;}#sk-container-id-4 div.sk-parallel-item::after {content: \"\";width: 100%;border-bottom: 1px solid gray;flex-grow: 1;}#sk-container-id-4 div.sk-label:hover label.sk-toggleable__label {background-color: #d4ebff;}#sk-container-id-4 div.sk-serial::before {content: \"\";position: absolute;border-left: 1px solid gray;box-sizing: border-box;top: 0;bottom: 0;left: 50%;z-index: 0;}#sk-container-id-4 div.sk-serial {display: flex;flex-direction: column;align-items: center;background-color: white;padding-right: 0.2em;padding-left: 0.2em;position: relative;}#sk-container-id-4 div.sk-item {position: relative;z-index: 1;}#sk-container-id-4 div.sk-parallel {display: flex;align-items: stretch;justify-content: center;background-color: white;position: relative;}#sk-container-id-4 div.sk-item::before, #sk-container-id-4 div.sk-parallel-item::before {content: \"\";position: absolute;border-left: 1px solid gray;box-sizing: border-box;top: 0;bottom: 0;left: 50%;z-index: -1;}#sk-container-id-4 div.sk-parallel-item {display: flex;flex-direction: column;z-index: 1;position: relative;background-color: white;}#sk-container-id-4 div.sk-parallel-item:first-child::after {align-self: flex-end;width: 50%;}#sk-container-id-4 div.sk-parallel-item:last-child::after {align-self: flex-start;width: 50%;}#sk-container-id-4 div.sk-parallel-item:only-child::after {width: 0;}#sk-container-id-4 div.sk-dashed-wrapped {border: 1px dashed gray;margin: 0 0.4em 0.5em 0.4em;box-sizing: border-box;padding-bottom: 0.4em;background-color: white;}#sk-container-id-4 div.sk-label label {font-family: monospace;font-weight: bold;display: inline-block;line-height: 1.2em;}#sk-container-id-4 div.sk-label-container {text-align: center;}#sk-container-id-4 div.sk-container {/* jupyter's `normalize.less` sets `[hidden] { display: none; }` but bootstrap.min.css set `[hidden] { display: none !important; }` so we also need the `!important` here to be able to override the default hidden behavior on the sphinx rendered scikit-learn.org. See: https://github.com/scikit-learn/scikit-learn/issues/21755 */display: inline-block !important;position: relative;}#sk-container-id-4 div.sk-text-repr-fallback {display: none;}</style><div id=\"sk-container-id-4\" class=\"sk-top-container\"><div class=\"sk-text-repr-fallback\"><pre>XGBRegressor(base_score=0.5, booster=&#x27;gbtree&#x27;, callbacks=None,\n",
       "             colsample_bylevel=1, colsample_bynode=1,\n",
       "             colsample_bytree=0.7999999999999999, early_stopping_rounds=None,\n",
       "             enable_categorical=False, eta=0.05, eval_metric=None, gamma=2,\n",
       "             gpu_id=-1, grow_policy=&#x27;depthwise&#x27;, importance_type=None,\n",
       "             interaction_constraints=&#x27;&#x27;, learning_rate=0.0500000007,\n",
       "             max_bin=256, max_cat_to_onehot=4, max_delta_step=0, max_depth=3,\n",
       "             max_leaves=0, min_child_weight=1, missing=nan,\n",
       "             monotone_constraints=&#x27;()&#x27;, n_estimators=800, n_jobs=0,\n",
       "             num_parallel_tree=1, predictor=&#x27;auto&#x27;, random_state=0,\n",
       "             reg_alpha=0.7000000000000001, ...)</pre><b>In a Jupyter environment, please rerun this cell to show the HTML representation or trust the notebook. <br />On GitHub, the HTML representation is unable to render, please try loading this page with nbviewer.org.</b></div><div class=\"sk-container\" hidden><div class=\"sk-item\"><div class=\"sk-estimator sk-toggleable\"><input class=\"sk-toggleable__control sk-hidden--visually\" id=\"sk-estimator-id-6\" type=\"checkbox\" checked><label for=\"sk-estimator-id-6\" class=\"sk-toggleable__label sk-toggleable__label-arrow\">XGBRegressor</label><div class=\"sk-toggleable__content\"><pre>XGBRegressor(base_score=0.5, booster=&#x27;gbtree&#x27;, callbacks=None,\n",
       "             colsample_bylevel=1, colsample_bynode=1,\n",
       "             colsample_bytree=0.7999999999999999, early_stopping_rounds=None,\n",
       "             enable_categorical=False, eta=0.05, eval_metric=None, gamma=2,\n",
       "             gpu_id=-1, grow_policy=&#x27;depthwise&#x27;, importance_type=None,\n",
       "             interaction_constraints=&#x27;&#x27;, learning_rate=0.0500000007,\n",
       "             max_bin=256, max_cat_to_onehot=4, max_delta_step=0, max_depth=3,\n",
       "             max_leaves=0, min_child_weight=1, missing=nan,\n",
       "             monotone_constraints=&#x27;()&#x27;, n_estimators=800, n_jobs=0,\n",
       "             num_parallel_tree=1, predictor=&#x27;auto&#x27;, random_state=0,\n",
       "             reg_alpha=0.7000000000000001, ...)</pre></div></div></div></div></div>"
      ],
      "text/plain": [
       "XGBRegressor(base_score=0.5, booster='gbtree', callbacks=None,\n",
       "             colsample_bylevel=1, colsample_bynode=1,\n",
       "             colsample_bytree=0.7999999999999999, early_stopping_rounds=None,\n",
       "             enable_categorical=False, eta=0.05, eval_metric=None, gamma=2,\n",
       "             gpu_id=-1, grow_policy='depthwise', importance_type=None,\n",
       "             interaction_constraints='', learning_rate=0.0500000007,\n",
       "             max_bin=256, max_cat_to_onehot=4, max_delta_step=0, max_depth=3,\n",
       "             max_leaves=0, min_child_weight=1, missing=nan,\n",
       "             monotone_constraints='()', n_estimators=800, n_jobs=0,\n",
       "             num_parallel_tree=1, predictor='auto', random_state=0,\n",
       "             reg_alpha=0.7000000000000001, ...)"
      ]
     },
     "execution_count": 50,
     "metadata": {},
     "output_type": "execute_result"
    }
   ],
   "source": [
    "randm.best_estimator_"
   ]
  },
  {
   "cell_type": "code",
   "execution_count": 51,
   "id": "303bb95b-f87a-45dc-9668-940288c7ff8f",
   "metadata": {},
   "outputs": [
    {
     "data": {
      "text/plain": [
       "-1.4095362365690354"
      ]
     },
     "execution_count": 51,
     "metadata": {},
     "output_type": "execute_result"
    }
   ],
   "source": [
    "randm.best_score_"
   ]
  },
  {
   "cell_type": "code",
   "execution_count": 52,
   "id": "2d0a1f9b-337c-42d1-85cb-4a605cf1c543",
   "metadata": {},
   "outputs": [
    {
     "data": {
      "text/plain": [
       "{'subsample': 0.5,\n",
       " 'reg_lambda': 0.8,\n",
       " 'reg_alpha': 0.7000000000000001,\n",
       " 'n_estimators': 800,\n",
       " 'min_child_weight': 1,\n",
       " 'max_depth': 3,\n",
       " 'gamma': 2,\n",
       " 'eta': 0.05,\n",
       " 'colsample_bytree': 0.7999999999999999}"
      ]
     },
     "execution_count": 52,
     "metadata": {},
     "output_type": "execute_result"
    }
   ],
   "source": [
    "randm.best_params_"
   ]
  },
  {
   "cell_type": "markdown",
   "id": "e911bb54-f888-441e-99ea-848a068183fb",
   "metadata": {},
   "source": [
    "##### FINAL MODEL"
   ]
  },
  {
   "cell_type": "code",
   "execution_count": 53,
   "id": "e64c8c56-1c5f-4aaa-a6fb-644d254f5238",
   "metadata": {},
   "outputs": [],
   "source": [
    "xgbmodel = XGBRegressor(random_state=0, n_estimators=400, objective='reg:squarederror',\n",
    "                       subsample=0.5,reg_lambda=0.3,reg_alpha=0.7,min_child_weight=3,max_depth=5,\n",
    "                       gamma=4, eta=0.05,colsample_bytree=0.6)"
   ]
  },
  {
   "cell_type": "code",
   "execution_count": 54,
   "id": "381657ba-0d6f-4ed4-8f1c-78652a580a0d",
   "metadata": {},
   "outputs": [
    {
     "name": "stdout",
     "output_type": "stream",
     "text": [
      "[0]\tvalidation_0-rmse:12.44881\n",
      "[1]\tvalidation_0-rmse:12.00769\n",
      "[2]\tvalidation_0-rmse:11.51187\n",
      "[3]\tvalidation_0-rmse:11.08284\n",
      "[4]\tvalidation_0-rmse:10.54943\n",
      "[5]\tvalidation_0-rmse:10.16763\n",
      "[6]\tvalidation_0-rmse:10.13597\n",
      "[7]\tvalidation_0-rmse:9.80488\n",
      "[8]\tvalidation_0-rmse:9.53588\n",
      "[9]\tvalidation_0-rmse:9.51464\n",
      "[10]\tvalidation_0-rmse:9.43175\n",
      "[11]\tvalidation_0-rmse:8.96516\n",
      "[12]\tvalidation_0-rmse:8.75272\n",
      "[13]\tvalidation_0-rmse:8.45419\n",
      "[14]\tvalidation_0-rmse:8.12402\n",
      "[15]\tvalidation_0-rmse:7.97269\n",
      "[16]\tvalidation_0-rmse:7.91037\n",
      "[17]\tvalidation_0-rmse:7.58363\n",
      "[18]\tvalidation_0-rmse:7.22321\n",
      "[19]\tvalidation_0-rmse:7.09325\n",
      "[20]\tvalidation_0-rmse:6.83164\n",
      "[21]\tvalidation_0-rmse:6.64972\n",
      "[22]\tvalidation_0-rmse:6.42248\n",
      "[23]\tvalidation_0-rmse:6.14401\n",
      "[24]\tvalidation_0-rmse:6.02474\n",
      "[25]\tvalidation_0-rmse:5.82018\n",
      "[26]\tvalidation_0-rmse:5.55855\n",
      "[27]\tvalidation_0-rmse:5.44287\n",
      "[28]\tvalidation_0-rmse:5.45196\n",
      "[29]\tvalidation_0-rmse:5.24483\n",
      "[30]\tvalidation_0-rmse:5.07680\n",
      "[31]\tvalidation_0-rmse:4.93260\n",
      "[32]\tvalidation_0-rmse:4.77368\n",
      "[33]\tvalidation_0-rmse:4.76026\n",
      "[34]\tvalidation_0-rmse:4.53705\n",
      "[35]\tvalidation_0-rmse:4.38584\n",
      "[36]\tvalidation_0-rmse:4.31142\n",
      "[37]\tvalidation_0-rmse:4.15832\n",
      "[38]\tvalidation_0-rmse:4.05223\n",
      "[39]\tvalidation_0-rmse:3.89683\n",
      "[40]\tvalidation_0-rmse:3.81520\n",
      "[41]\tvalidation_0-rmse:3.76330\n",
      "[42]\tvalidation_0-rmse:3.61161\n",
      "[43]\tvalidation_0-rmse:3.44613\n",
      "[44]\tvalidation_0-rmse:3.33931\n",
      "[45]\tvalidation_0-rmse:3.25054\n",
      "[46]\tvalidation_0-rmse:3.16969\n",
      "[47]\tvalidation_0-rmse:3.05841\n",
      "[48]\tvalidation_0-rmse:3.01950\n",
      "[49]\tvalidation_0-rmse:2.97739\n",
      "[50]\tvalidation_0-rmse:2.84613\n",
      "[51]\tvalidation_0-rmse:2.84598\n",
      "[52]\tvalidation_0-rmse:2.71754\n",
      "[53]\tvalidation_0-rmse:2.67595\n",
      "[54]\tvalidation_0-rmse:2.61814\n",
      "[55]\tvalidation_0-rmse:2.61886\n",
      "[56]\tvalidation_0-rmse:2.59147\n",
      "[57]\tvalidation_0-rmse:2.57221\n",
      "[58]\tvalidation_0-rmse:2.52019\n",
      "[59]\tvalidation_0-rmse:2.49858\n",
      "[60]\tvalidation_0-rmse:2.44115\n",
      "[61]\tvalidation_0-rmse:2.44062\n",
      "[62]\tvalidation_0-rmse:2.39001\n",
      "[63]\tvalidation_0-rmse:2.35951\n",
      "[64]\tvalidation_0-rmse:2.34343\n",
      "[65]\tvalidation_0-rmse:2.32466\n",
      "[66]\tvalidation_0-rmse:2.28839\n",
      "[67]\tvalidation_0-rmse:2.28842\n",
      "[68]\tvalidation_0-rmse:2.20237\n",
      "[69]\tvalidation_0-rmse:2.20376\n",
      "[70]\tvalidation_0-rmse:2.12245\n",
      "[71]\tvalidation_0-rmse:2.11781\n",
      "[72]\tvalidation_0-rmse:2.08799\n",
      "[73]\tvalidation_0-rmse:2.05240\n",
      "[74]\tvalidation_0-rmse:1.99389\n",
      "[75]\tvalidation_0-rmse:1.98932\n",
      "[76]\tvalidation_0-rmse:1.98690\n",
      "[77]\tvalidation_0-rmse:1.98720\n",
      "[78]\tvalidation_0-rmse:1.98302\n",
      "[79]\tvalidation_0-rmse:1.98495\n",
      "[80]\tvalidation_0-rmse:1.96856\n",
      "[81]\tvalidation_0-rmse:1.98074\n",
      "[82]\tvalidation_0-rmse:1.97818\n",
      "[83]\tvalidation_0-rmse:1.98021\n",
      "[84]\tvalidation_0-rmse:1.97158\n",
      "[85]\tvalidation_0-rmse:1.97136\n",
      "[86]\tvalidation_0-rmse:1.93020\n",
      "[87]\tvalidation_0-rmse:1.89805\n",
      "[88]\tvalidation_0-rmse:1.90039\n",
      "[89]\tvalidation_0-rmse:1.86089\n",
      "[90]\tvalidation_0-rmse:1.82784\n",
      "[91]\tvalidation_0-rmse:1.82255\n",
      "[92]\tvalidation_0-rmse:1.84457\n",
      "[93]\tvalidation_0-rmse:1.84907\n",
      "[94]\tvalidation_0-rmse:1.82819\n",
      "[95]\tvalidation_0-rmse:1.81716\n",
      "[96]\tvalidation_0-rmse:1.76795\n",
      "[97]\tvalidation_0-rmse:1.72295\n",
      "[98]\tvalidation_0-rmse:1.68690\n",
      "[99]\tvalidation_0-rmse:1.68104\n",
      "[100]\tvalidation_0-rmse:1.66599\n",
      "[101]\tvalidation_0-rmse:1.65654\n",
      "[102]\tvalidation_0-rmse:1.65816\n",
      "[103]\tvalidation_0-rmse:1.66642\n",
      "[104]\tvalidation_0-rmse:1.63324\n",
      "[105]\tvalidation_0-rmse:1.59399\n",
      "[106]\tvalidation_0-rmse:1.59439\n",
      "[107]\tvalidation_0-rmse:1.57655\n",
      "[108]\tvalidation_0-rmse:1.56399\n",
      "[109]\tvalidation_0-rmse:1.56359\n",
      "[110]\tvalidation_0-rmse:1.56274\n",
      "[111]\tvalidation_0-rmse:1.56671\n",
      "[112]\tvalidation_0-rmse:1.55649\n",
      "[113]\tvalidation_0-rmse:1.56956\n",
      "[114]\tvalidation_0-rmse:1.57024\n",
      "[115]\tvalidation_0-rmse:1.56239\n",
      "[116]\tvalidation_0-rmse:1.58229\n",
      "[117]\tvalidation_0-rmse:1.57248\n",
      "[118]\tvalidation_0-rmse:1.56642\n",
      "[119]\tvalidation_0-rmse:1.55191\n",
      "[120]\tvalidation_0-rmse:1.54846\n",
      "[121]\tvalidation_0-rmse:1.55578\n",
      "[122]\tvalidation_0-rmse:1.55707\n",
      "[123]\tvalidation_0-rmse:1.54590\n",
      "[124]\tvalidation_0-rmse:1.54573\n",
      "[125]\tvalidation_0-rmse:1.52698\n",
      "[126]\tvalidation_0-rmse:1.54432\n",
      "[127]\tvalidation_0-rmse:1.54420\n",
      "[128]\tvalidation_0-rmse:1.54428\n",
      "[129]\tvalidation_0-rmse:1.52891\n",
      "[130]\tvalidation_0-rmse:1.51681\n",
      "[131]\tvalidation_0-rmse:1.50750\n",
      "[132]\tvalidation_0-rmse:1.50154\n",
      "[133]\tvalidation_0-rmse:1.48942\n",
      "[134]\tvalidation_0-rmse:1.50221\n",
      "[135]\tvalidation_0-rmse:1.51502\n",
      "[136]\tvalidation_0-rmse:1.52514\n",
      "[137]\tvalidation_0-rmse:1.51217\n",
      "[138]\tvalidation_0-rmse:1.50683\n",
      "[139]\tvalidation_0-rmse:1.52176\n",
      "[140]\tvalidation_0-rmse:1.53492\n",
      "[141]\tvalidation_0-rmse:1.53465\n",
      "[142]\tvalidation_0-rmse:1.53582\n"
     ]
    },
    {
     "data": {
      "text/html": [
       "<style>#sk-container-id-5 {color: black;background-color: white;}#sk-container-id-5 pre{padding: 0;}#sk-container-id-5 div.sk-toggleable {background-color: white;}#sk-container-id-5 label.sk-toggleable__label {cursor: pointer;display: block;width: 100%;margin-bottom: 0;padding: 0.3em;box-sizing: border-box;text-align: center;}#sk-container-id-5 label.sk-toggleable__label-arrow:before {content: \"▸\";float: left;margin-right: 0.25em;color: #696969;}#sk-container-id-5 label.sk-toggleable__label-arrow:hover:before {color: black;}#sk-container-id-5 div.sk-estimator:hover label.sk-toggleable__label-arrow:before {color: black;}#sk-container-id-5 div.sk-toggleable__content {max-height: 0;max-width: 0;overflow: hidden;text-align: left;background-color: #f0f8ff;}#sk-container-id-5 div.sk-toggleable__content pre {margin: 0.2em;color: black;border-radius: 0.25em;background-color: #f0f8ff;}#sk-container-id-5 input.sk-toggleable__control:checked~div.sk-toggleable__content {max-height: 200px;max-width: 100%;overflow: auto;}#sk-container-id-5 input.sk-toggleable__control:checked~label.sk-toggleable__label-arrow:before {content: \"▾\";}#sk-container-id-5 div.sk-estimator input.sk-toggleable__control:checked~label.sk-toggleable__label {background-color: #d4ebff;}#sk-container-id-5 div.sk-label input.sk-toggleable__control:checked~label.sk-toggleable__label {background-color: #d4ebff;}#sk-container-id-5 input.sk-hidden--visually {border: 0;clip: rect(1px 1px 1px 1px);clip: rect(1px, 1px, 1px, 1px);height: 1px;margin: -1px;overflow: hidden;padding: 0;position: absolute;width: 1px;}#sk-container-id-5 div.sk-estimator {font-family: monospace;background-color: #f0f8ff;border: 1px dotted black;border-radius: 0.25em;box-sizing: border-box;margin-bottom: 0.5em;}#sk-container-id-5 div.sk-estimator:hover {background-color: #d4ebff;}#sk-container-id-5 div.sk-parallel-item::after {content: \"\";width: 100%;border-bottom: 1px solid gray;flex-grow: 1;}#sk-container-id-5 div.sk-label:hover label.sk-toggleable__label {background-color: #d4ebff;}#sk-container-id-5 div.sk-serial::before {content: \"\";position: absolute;border-left: 1px solid gray;box-sizing: border-box;top: 0;bottom: 0;left: 50%;z-index: 0;}#sk-container-id-5 div.sk-serial {display: flex;flex-direction: column;align-items: center;background-color: white;padding-right: 0.2em;padding-left: 0.2em;position: relative;}#sk-container-id-5 div.sk-item {position: relative;z-index: 1;}#sk-container-id-5 div.sk-parallel {display: flex;align-items: stretch;justify-content: center;background-color: white;position: relative;}#sk-container-id-5 div.sk-item::before, #sk-container-id-5 div.sk-parallel-item::before {content: \"\";position: absolute;border-left: 1px solid gray;box-sizing: border-box;top: 0;bottom: 0;left: 50%;z-index: -1;}#sk-container-id-5 div.sk-parallel-item {display: flex;flex-direction: column;z-index: 1;position: relative;background-color: white;}#sk-container-id-5 div.sk-parallel-item:first-child::after {align-self: flex-end;width: 50%;}#sk-container-id-5 div.sk-parallel-item:last-child::after {align-self: flex-start;width: 50%;}#sk-container-id-5 div.sk-parallel-item:only-child::after {width: 0;}#sk-container-id-5 div.sk-dashed-wrapped {border: 1px dashed gray;margin: 0 0.4em 0.5em 0.4em;box-sizing: border-box;padding-bottom: 0.4em;background-color: white;}#sk-container-id-5 div.sk-label label {font-family: monospace;font-weight: bold;display: inline-block;line-height: 1.2em;}#sk-container-id-5 div.sk-label-container {text-align: center;}#sk-container-id-5 div.sk-container {/* jupyter's `normalize.less` sets `[hidden] { display: none; }` but bootstrap.min.css set `[hidden] { display: none !important; }` so we also need the `!important` here to be able to override the default hidden behavior on the sphinx rendered scikit-learn.org. See: https://github.com/scikit-learn/scikit-learn/issues/21755 */display: inline-block !important;position: relative;}#sk-container-id-5 div.sk-text-repr-fallback {display: none;}</style><div id=\"sk-container-id-5\" class=\"sk-top-container\"><div class=\"sk-text-repr-fallback\"><pre>XGBRegressor(base_score=0.5, booster=&#x27;gbtree&#x27;, callbacks=None,\n",
       "             colsample_bylevel=1, colsample_bynode=1, colsample_bytree=0.6,\n",
       "             early_stopping_rounds=None, enable_categorical=False, eta=0.05,\n",
       "             eval_metric=None, gamma=4, gpu_id=-1, grow_policy=&#x27;depthwise&#x27;,\n",
       "             importance_type=None, interaction_constraints=&#x27;&#x27;,\n",
       "             learning_rate=0.0500000007, max_bin=256, max_cat_to_onehot=4,\n",
       "             max_delta_step=0, max_depth=5, max_leaves=0, min_child_weight=3,\n",
       "             missing=nan, monotone_constraints=&#x27;()&#x27;, n_estimators=400, n_jobs=0,\n",
       "             num_parallel_tree=1, predictor=&#x27;auto&#x27;, random_state=0,\n",
       "             reg_alpha=0.7, ...)</pre><b>In a Jupyter environment, please rerun this cell to show the HTML representation or trust the notebook. <br />On GitHub, the HTML representation is unable to render, please try loading this page with nbviewer.org.</b></div><div class=\"sk-container\" hidden><div class=\"sk-item\"><div class=\"sk-estimator sk-toggleable\"><input class=\"sk-toggleable__control sk-hidden--visually\" id=\"sk-estimator-id-7\" type=\"checkbox\" checked><label for=\"sk-estimator-id-7\" class=\"sk-toggleable__label sk-toggleable__label-arrow\">XGBRegressor</label><div class=\"sk-toggleable__content\"><pre>XGBRegressor(base_score=0.5, booster=&#x27;gbtree&#x27;, callbacks=None,\n",
       "             colsample_bylevel=1, colsample_bynode=1, colsample_bytree=0.6,\n",
       "             early_stopping_rounds=None, enable_categorical=False, eta=0.05,\n",
       "             eval_metric=None, gamma=4, gpu_id=-1, grow_policy=&#x27;depthwise&#x27;,\n",
       "             importance_type=None, interaction_constraints=&#x27;&#x27;,\n",
       "             learning_rate=0.0500000007, max_bin=256, max_cat_to_onehot=4,\n",
       "             max_delta_step=0, max_depth=5, max_leaves=0, min_child_weight=3,\n",
       "             missing=nan, monotone_constraints=&#x27;()&#x27;, n_estimators=400, n_jobs=0,\n",
       "             num_parallel_tree=1, predictor=&#x27;auto&#x27;, random_state=0,\n",
       "             reg_alpha=0.7, ...)</pre></div></div></div></div></div>"
      ],
      "text/plain": [
       "XGBRegressor(base_score=0.5, booster='gbtree', callbacks=None,\n",
       "             colsample_bylevel=1, colsample_bynode=1, colsample_bytree=0.6,\n",
       "             early_stopping_rounds=None, enable_categorical=False, eta=0.05,\n",
       "             eval_metric=None, gamma=4, gpu_id=-1, grow_policy='depthwise',\n",
       "             importance_type=None, interaction_constraints='',\n",
       "             learning_rate=0.0500000007, max_bin=256, max_cat_to_onehot=4,\n",
       "             max_delta_step=0, max_depth=5, max_leaves=0, min_child_weight=3,\n",
       "             missing=nan, monotone_constraints='()', n_estimators=400, n_jobs=0,\n",
       "             num_parallel_tree=1, predictor='auto', random_state=0,\n",
       "             reg_alpha=0.7, ...)"
      ]
     },
     "execution_count": 54,
     "metadata": {},
     "output_type": "execute_result"
    }
   ],
   "source": [
    "xgbmodel.fit(X_train,y_train,eval_set=[(X_test,y_test)],eval_metric='rmse',early_stopping_rounds=10)"
   ]
  },
  {
   "cell_type": "code",
   "execution_count": 55,
   "id": "394951c9-7d60-403e-b91d-b96edd1693a1",
   "metadata": {},
   "outputs": [],
   "source": [
    "y_pred = xgbmodel.predict(X_test)"
   ]
  },
  {
   "cell_type": "code",
   "execution_count": 56,
   "id": "54ebfd96-f2b9-4224-8255-e6b1536417e0",
   "metadata": {},
   "outputs": [
    {
     "data": {
      "text/plain": [
       "array([-0.03204667, -0.28304982, -0.07079   , -0.15593782, -0.03204667,\n",
       "       -0.03204667,  1.0791378 , 71.90405   , -0.03204667, -0.13971676,\n",
       "       -0.03204667,  0.03507817, -0.11858872, -0.03204667, -0.18523751,\n",
       "       -0.03204667, -0.11858872, -0.03204667, -0.03204667,  0.6543481 ,\n",
       "       -0.11972018, -0.04493409, -0.03204667, -0.14041549, -0.03204667,\n",
       "        0.8004416 , -0.23361622, -0.03204667, -0.04947894, -0.03204667,\n",
       "        0.03348095,  0.04395517, -0.02432399, -0.03288813, -0.02245283,\n",
       "       -0.11858872, -0.03204667, -0.03204667, -0.03204667, -0.08241646,\n",
       "        2.0098898 , -0.03204667, -0.03204667, -0.07655668, -0.01053542,\n",
       "       -0.8555864 , -0.03204667, -0.05139922, -0.05706795, -0.03204667,\n",
       "        0.2136239 , -0.03368833, -0.03575826, 69.173195  ,  0.65882355,\n",
       "       -0.03204667, -0.03204667, -0.08906703, -0.19161077,  0.06158255,\n",
       "       -0.0380531 , -0.03204667, -0.03204667, -0.03204667,  0.3768513 ,\n",
       "       -0.03204667,  1.3179755 , -0.05139922, -0.04218566, -0.03204667,\n",
       "       -0.03368833,  1.727763  , -0.06252593, -0.09867764,  0.18572587,\n",
       "       -0.04317338, -0.0394279 , -0.4853926 , -0.14103027, -0.06360887,\n",
       "        0.36428103, -0.03204667, -0.07148986, -0.04302712, -0.03204667,\n",
       "       -0.83132744, -0.03146514,  1.6662768 , -0.11690237, -0.03204667,\n",
       "       -0.05200416, -0.04218566,  0.16106072, -0.08770187, -0.5338804 ,\n",
       "       -0.03204667, -0.32741082, -0.04947894, -0.03204667, -0.05904133,\n",
       "        1.5465978 , -0.03204667,  1.0260239 , -0.05139922,  2.291993  ,\n",
       "       -0.03204667, -0.12300561, -0.03204667, -0.09687271, -0.03204667,\n",
       "       -0.03204667, -0.03795191, -0.03858759, 73.40362   , -0.03204667,\n",
       "        0.04064421, -0.10363676,  0.6660353 ,  0.53873223, -0.05642529,\n",
       "        0.16894042, -0.03204667, -0.03204667, -0.03204667, -0.2045173 ,\n",
       "       -0.03204667, -0.05200416, -0.05200416,  2.2011073 , -0.12107626,\n",
       "        1.0812058 , 78.219505  , -0.03204667, -0.03204667, -0.05450494,\n",
       "       -0.13260238, -0.5398262 , -0.10727518, -0.03795191, -0.0538188 ,\n",
       "       -0.28363228,  0.37520966,  0.00701688, -0.03513592,  0.68383324,\n",
       "       -0.20235173,  0.04231351, -0.03368833, -0.03204667, -0.05819987,\n",
       "       -0.06887521, -0.06904928, -0.03204667, -0.10451158, -0.06331088,\n",
       "        0.922008  , -0.03204667, -0.08702753, -0.04317338, -0.03204667,\n",
       "       -0.15835072, -0.03204667, -0.03204667, -0.03204667, -0.03711045,\n",
       "       -0.03204667, -0.06268062, -0.03204667, -0.056439  , -0.09700207,\n",
       "       -0.03204667, -0.09920595, -0.03204667, -0.05224068, -0.03204667,\n",
       "       -0.0552245 , -0.03146514, -0.03368833, 65.79638   , -0.028595  ,\n",
       "       -0.13699701, -0.05200416, -0.03204667, -0.08926824, -0.08073406,\n",
       "       -0.03204667, -0.03204667, -0.03204667, -0.03204667, -0.03204667,\n",
       "       -0.08702753, -0.03204667, -0.03204667, -0.03204667, -0.03204667,\n",
       "       -0.03795191, -0.03204667,  0.10613736,  0.3182071 , -0.07600264,\n",
       "       -0.03204667, -0.03204667,  0.57095087, -0.05139922, -0.03204667,\n",
       "       -0.03204667, -0.03204667, -0.03204667, -0.03204667, -0.03204667,\n",
       "       -0.00631157, -0.05139922,  1.066507  , -0.04317338, 70.43452   ,\n",
       "       -0.05309096, -0.03204667, -0.03368833, -0.05200416, -0.04493409,\n",
       "       -0.06761302, -0.0394279 , -0.04823716, -0.12211901, -0.27563828,\n",
       "       -0.12593676,  2.3331192 , -0.32758784, -0.13673714], dtype=float32)"
      ]
     },
     "execution_count": 56,
     "metadata": {},
     "output_type": "execute_result"
    }
   ],
   "source": [
    "y_pred"
   ]
  },
  {
   "cell_type": "code",
   "execution_count": 57,
   "id": "b32821da-d4bc-4247-abeb-66fe8ed7eb54",
   "metadata": {},
   "outputs": [
    {
     "data": {
      "text/plain": [
       "array([-0., -0., -0., -0., -0., -0.,  1., 72., -0., -0., -0.,  0., -0.,\n",
       "       -0., -0., -0., -0., -0., -0.,  1., -0., -0., -0., -0., -0.,  1.,\n",
       "       -0., -0., -0., -0.,  0.,  0., -0., -0., -0., -0., -0., -0., -0.,\n",
       "       -0.,  2., -0., -0., -0., -0., -1., -0., -0., -0., -0.,  0., -0.,\n",
       "       -0., 69.,  1., -0., -0., -0., -0.,  0., -0., -0., -0., -0.,  0.,\n",
       "       -0.,  1., -0., -0., -0., -0.,  2., -0., -0.,  0., -0., -0., -0.,\n",
       "       -0., -0.,  0., -0., -0., -0., -0., -1., -0.,  2., -0., -0., -0.,\n",
       "       -0.,  0., -0., -1., -0., -0., -0., -0., -0.,  2., -0.,  1., -0.,\n",
       "        2., -0., -0., -0., -0., -0., -0., -0., -0., 73., -0.,  0., -0.,\n",
       "        1.,  1., -0.,  0., -0., -0., -0., -0., -0., -0., -0.,  2., -0.,\n",
       "        1., 78., -0., -0., -0., -0., -1., -0., -0., -0., -0.,  0.,  0.,\n",
       "       -0.,  1., -0.,  0., -0., -0., -0., -0., -0., -0., -0., -0.,  1.,\n",
       "       -0., -0., -0., -0., -0., -0., -0., -0., -0., -0., -0., -0., -0.,\n",
       "       -0., -0., -0., -0., -0., -0., -0., -0., -0., 66., -0., -0., -0.,\n",
       "       -0., -0., -0., -0., -0., -0., -0., -0., -0., -0., -0., -0., -0.,\n",
       "       -0., -0.,  0.,  0., -0., -0., -0.,  1., -0., -0., -0., -0., -0.,\n",
       "       -0., -0., -0., -0.,  1., -0., 70., -0., -0., -0., -0., -0., -0.,\n",
       "       -0., -0., -0., -0., -0.,  2., -0., -0.], dtype=float32)"
      ]
     },
     "execution_count": 57,
     "metadata": {},
     "output_type": "execute_result"
    }
   ],
   "source": [
    "y_pred.round()"
   ]
  },
  {
   "cell_type": "markdown",
   "id": "85f42db5-f7af-4865-b03d-2cde28e45600",
   "metadata": {},
   "source": [
    "##### MODEL EVALUATION"
   ]
  },
  {
   "cell_type": "code",
   "execution_count": 58,
   "id": "0489267c-3e6a-488d-88ba-18bd256d7a48",
   "metadata": {},
   "outputs": [
    {
     "data": {
      "text/plain": [
       "2.2183753956921066"
      ]
     },
     "execution_count": 58,
     "metadata": {},
     "output_type": "execute_result"
    }
   ],
   "source": [
    "mse = mean_squared_error(y_test,y_pred)\n",
    "mse"
   ]
  },
  {
   "cell_type": "code",
   "execution_count": 59,
   "id": "e0a7c199-b8a8-4667-b492-aa76b747258d",
   "metadata": {},
   "outputs": [
    {
     "data": {
      "text/plain": [
       "1.4894211612878698"
      ]
     },
     "execution_count": 59,
     "metadata": {},
     "output_type": "execute_result"
    }
   ],
   "source": [
    "rmse = np.sqrt(mse)\n",
    "rmse"
   ]
  },
  {
   "cell_type": "code",
   "execution_count": 60,
   "id": "6402f086-3a73-49e9-86ee-aa8e2f080a67",
   "metadata": {},
   "outputs": [
    {
     "data": {
      "text/plain": [
       "0.9854987160652079"
      ]
     },
     "execution_count": 60,
     "metadata": {},
     "output_type": "execute_result"
    }
   ],
   "source": [
    "r2score = r2_score(y_test,y_pred)\n",
    "r2score"
   ]
  },
  {
   "cell_type": "code",
   "execution_count": 61,
   "id": "83c255be-3e8f-4195-b517-0d61a460a206",
   "metadata": {},
   "outputs": [
    {
     "data": {
      "image/png": "[encoded data removed]",
      "text/plain": [
       "<Figure size 720x576 with 1 Axes>"
      ]
     },
     "metadata": {},
     "output_type": "display_data"
    }
   ],
   "source": [
    "fig, ax = plt.subplots(figsize=(10,8))\n",
    "sns.regplot(x=y_test, y=y_pred.round(), ax=ax)\n",
    "plt.title(\"Plot to compare actual vs predicted - XGBoost\")\n",
    "plt.ylabel(\"Predicted\")\n",
    "plt.xlabel(\"Actual\")\n",
    "plt.show()"
   ]
  },
  {
   "cell_type": "markdown",
   "id": "372c9b2b-f343-4614-8b41-210572910cfc",
   "metadata": {},
   "source": [
    "### Plot Feature Importances (Extra Tree and XGBoost)"
   ]
  },
  {
   "cell_type": "code",
   "execution_count": 62,
   "id": "e97f1ddd-6901-437b-a5cc-5c8556975f4c",
   "metadata": {},
   "outputs": [
    {
     "data": {
      "text/plain": [
       "array([0.01624824, 0.        , 0.00152597, 0.00556855, 0.00493293,\n",
       "       0.00418531, 0.00006396, 0.00812276, 0.00032887, 0.00147974,\n",
       "       0.00092005, 0.00022078, 0.00070052, 0.00027517, 0.00062444,\n",
       "       0.00074857, 0.00071566, 0.00074987, 0.00174302, 0.00002177,\n",
       "       0.00053182, 0.00370693, 0.00198138, 0.00032914, 0.00407607,\n",
       "       0.94019846])"
      ]
     },
     "execution_count": 62,
     "metadata": {},
     "output_type": "execute_result"
    }
   ],
   "source": [
    "et.feature_importances_"
   ]
  },
  {
   "cell_type": "code",
   "execution_count": 63,
   "id": "530daad2-6bdd-449d-900b-c3bf992ebe90",
   "metadata": {},
   "outputs": [],
   "source": [
    "feat_importances = pd.Series(et.feature_importances_, index=X.columns)"
   ]
  },
  {
   "cell_type": "code",
   "execution_count": 64,
   "id": "745e2355-2d5c-46d0-ac0a-09b2c34c2601",
   "metadata": {},
   "outputs": [
    {
     "data": {
      "text/plain": [
       "season            0.016248\n",
       "neutral           0.000000\n",
       "elo1_pre          0.001526\n",
       "elo2_pre          0.005569\n",
       "elo_prob1         0.004933\n",
       "elo_prob2         0.004185\n",
       "elo1_post         0.000064\n",
       "elo2_post         0.008123\n",
       "qbelo1_pre        0.000329\n",
       "qbelo2_pre        0.001480\n",
       "qb1_value_pre     0.000920\n",
       "qb2_value_pre     0.000221\n",
       "qb1_adj           0.000701\n",
       "qb2_adj           0.000275\n",
       "qbelo_prob1       0.000624\n",
       "qbelo_prob2       0.000749\n",
       "qb1_game_value    0.000716\n",
       "qb2_game_value    0.000750\n",
       "qb1_value_post    0.001743\n",
       "qb2_value_post    0.000022\n",
       "qbelo1_post       0.000532\n",
       "qbelo2_post       0.003707\n",
       "score1            0.001981\n",
       "score2            0.000329\n",
       "quality           0.004076\n",
       "importance        0.940198\n",
       "dtype: float64"
      ]
     },
     "execution_count": 64,
     "metadata": {},
     "output_type": "execute_result"
    }
   ],
   "source": [
    "feat_importances"
   ]
  },
  {
   "cell_type": "code",
   "execution_count": 65,
   "id": "ad12b2ef-8388-438b-9a9c-cb502c7550d5",
   "metadata": {},
   "outputs": [
    {
     "data": {
      "image/png": "[encoded data removed]",
      "text/plain": [
       "<Figure size 720x720 with 1 Axes>"
      ]
     },
     "metadata": {},
     "output_type": "display_data"
    }
   ],
   "source": [
    "feat_importances.nlargest(10).plot(kind='barh', figsize=(10,10))\n",
    "plt.title('Extra Tree Feature Importances')\n",
    "plt.show()"
   ]
  },
  {
   "cell_type": "code",
   "execution_count": 66,
   "id": "3a05dcdb-692a-4407-baf9-8978a974f8d0",
   "metadata": {},
   "outputs": [
    {
     "data": {
      "text/plain": [
       "Index(['season', 'neutral', 'elo1_pre', 'elo2_pre', 'elo_prob1', 'elo_prob2', 'elo1_post', 'elo2_post', 'qbelo1_pre', 'qbelo2_pre', 'qb1_value_pre', 'qb2_value_pre', 'qb1_adj', 'qb2_adj', 'qbelo_prob1', 'qbelo_prob2', 'qb1_game_value', 'qb2_game_value', 'qb1_value_post', 'qb2_value_post', 'qbelo1_post', 'qbelo2_post', 'score1', 'score2', 'quality', 'importance'], dtype='object')"
      ]
     },
     "execution_count": 66,
     "metadata": {},
     "output_type": "execute_result"
    }
   ],
   "source": [
    "X.columns"
   ]
  },
  {
   "cell_type": "code",
   "execution_count": 67,
   "id": "39a315be-1888-4d1e-a249-22c606224d04",
   "metadata": {},
   "outputs": [],
   "source": [
    "xgbmodel.get_booster().feature_names = ['season', 'neutral', 'elo1_pre', 'elo2_pre', 'elo_prob1', 'elo_prob2', 'elo1_post', 'elo2_post', 'qbelo1_pre', 'qbelo2_pre', 'qb1_value_pre', 'qb2_value_pre', 'qb1_adj', 'qb2_adj', 'qbelo_prob1', 'qbelo_prob2', 'qb1_game_value', 'qb2_game_value', 'qb1_value_post', 'qb2_value_post', 'qbelo1_post', 'qbelo2_post', 'score1', 'score2', 'quality', 'importance']"
   ]
  },
  {
   "cell_type": "code",
   "execution_count": 68,
   "id": "b8da051a-e1f7-4424-9078-9ab1288a0f9d",
   "metadata": {},
   "outputs": [
    {
     "data": {
      "image/png": "[encoded data removed]",
      "text/plain": [
       "<Figure size 1440x720 with 1 Axes>"
      ]
     },
     "metadata": {},
     "output_type": "display_data"
    }
   ],
   "source": [
    "fig, ax = plt.subplots(figsize=(20,10))\n",
    "xgb.plot_importance(xgbmodel.get_booster(),ax=ax,title='XGBoost Feature importance')\n",
    "plt.show()"
   ]
  },
  {
   "cell_type": "markdown",
   "id": "3aaf183d-30b2-422d-b9bb-1f5f6b220ba8",
   "metadata": {},
   "source": [
    "#### CROSS VALIDATION"
   ]
  },
  {
   "cell_type": "code",
   "execution_count": 69,
   "id": "86e338b3-3684-47e2-8e87-a143eb5ce52a",
   "metadata": {},
   "outputs": [
    {
     "name": "stderr",
     "output_type": "stream",
     "text": [
      "[Parallel(n_jobs=1)]: Using backend SequentialBackend with 1 concurrent workers.\n",
      "[Parallel(n_jobs=1)]: Done   5 out of   5 | elapsed:    2.4s finished\n"
     ]
    }
   ],
   "source": [
    "cv = cross_val_score(xgbmodel,X,y,cv=5,verbose=1,scoring='neg_root_mean_squared_error')"
   ]
  },
  {
   "cell_type": "code",
   "execution_count": 70,
   "id": "851f03f3-00ba-4cb1-bbf7-a8fe86928b6b",
   "metadata": {},
   "outputs": [
    {
     "data": {
      "text/plain": [
       "-4.450862083974473"
      ]
     },
     "execution_count": 70,
     "metadata": {},
     "output_type": "execute_result"
    }
   ],
   "source": [
    "cv.mean()"
   ]
  },
  {
   "cell_type": "code",
   "execution_count": null,
   "id": "b3483bff-5da2-4fb3-8444-55ec8bf46d52",
   "metadata": {},
   "outputs": [],
   "source": []
  }
 ],
 "metadata": {
  "kernelspec": {
   "display_name": "Python 3 (ipykernel)",
   "language": "python",
   "name": "python3"
  },
  "language_info": {
   "codemirror_mode": {
    "name": "ipython",
    "version": 3
   },
   "file_extension": ".py",
   "mimetype": "text/x-python",
   "name": "python",
   "nbconvert_exporter": "python",
   "pygments_lexer": "ipython3",
   "version": "3.9.12"
  }
 },
 "nbformat": 4,
 "nbformat_minor": 5
}
